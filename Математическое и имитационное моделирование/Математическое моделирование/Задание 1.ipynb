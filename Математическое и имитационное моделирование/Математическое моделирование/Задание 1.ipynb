{
 "cells": [
  {
   "cell_type": "markdown",
   "metadata": {},
   "source": [
    "# Работу выполнил Бедак Иван ПИ19-4\n",
    "# Вариант 77"
   ]
  },
  {
   "cell_type": "code",
   "execution_count": 138,
   "metadata": {},
   "outputs": [],
   "source": [
    "import numpy as np\n",
    "#Матрица переходов\n",
    "P = np.array([\n",
    "    [0, 0.2, 0, 0, 0.73, 0, 0, 0, 0, 0, 0, 0, 0, 0, 0, 0], #1\n",
    "    [0.16, 0, 0, 0.04, 0.08, 0, 0, 0, 0, 0, 0, 0, 0, 0, 0, 0], #2\n",
    "    [0, 0.27, 0, 0.16, 0, 0.22, 0.12, 0, 0, 0, 0, 0, 0, 0, 0, 0], #3\n",
    "    [0.18, 0.39, 0, 0, 0, 0, 0, 0, 0, 0.05, 0.33, 0, 0, 0, 0, 0], #4\n",
    "    [0.19, 0, 0, 0.57, 0, 0.17, 0, 0, 0, 0, 0, 0, 0, 0, 0, 0], #5\n",
    "    [0.26, 0.02, 0, 0, 0.22, 0, 0.13, 0.13, 0.1, 0.13, 0, 0, 0, 0, 0, 0], #6\n",
    "    [0, 0, 0.37, 0, 0, 0.33, 0, 0, 0.23, 0, 0, 0, 0, 0, 0, 0], #7\n",
    "    [0, 0, 0, 0.15, 0, 0, 0, 0, 0.23, 0, 0.22, 0, 0, 0.45, 0, 0], #8\n",
    "    [0, 0, 0, 0.31, 0.27, 0, 0, 0.37, 0, 0, 0, 0, 0, 0, 0, 0], #9\n",
    "    [0, 0, 0, 0.29, 0.2, 0, 0.2, 0, 0, 0, 0.08, 0.19, 0, 0, 0, 0], #10\n",
    "    [0, 0, 0, 0, 0, 0, 0, 0, 0, 0, 0, 0, 0, 0, 0, 0.47], #11\n",
    "    [0, 0, 0, 0, 0, 0, 0, 0, 0, 0.83, 0, 0, 0, 0, 0.08, 0], #12\n",
    "    [0, 0, 0, 0, 0, 0, 0, 0, 0.24, 0, 0, 0.35, 0, 0, 0, 0.37], #13\n",
    "    [0, 0, 0, 0, 0, 0, 0, 0.27, 0.18, 0.13, 0, 0, 0, 0, 0.25, 0], #14\n",
    "    [0, 0, 0, 0, 0, 0, 0, 0, 0, 0, 0, 0.37, 0.16, 0, 0, 0], #15\n",
    "    [0, 0, 0, 0, 0, 0, 0, 0, 0, 0, 0, 0.15, 0, 0, 0.77, 0] #16\n",
    "    ])\n",
    "\n",
    "#Добавление вероятностей задержаться в вершине\n",
    "for i in range(len(P)):\n",
    "    P[i][i] = 1 - sum(P[i])\n",
    "\n",
    "#P\n"
   ]
  },
  {
   "cell_type": "code",
   "execution_count": 139,
   "metadata": {},
   "outputs": [
    {
     "name": "stdout",
     "output_type": "stream",
     "text": [
      "0.10255186107299998\n"
     ]
    }
   ],
   "source": [
    "#1) вероятность того, что за 6 шагов система перейдет из состояния 12 в состояние 4\n",
    "k = 6\n",
    "i = 12\n",
    "j = 4\n",
    "result = P.copy()\n",
    "for _ in range(k-1):\n",
    "    result = result @ P\n",
    "\n",
    "print(result[i - 1][j - 1])"
   ]
  },
  {
   "cell_type": "code",
   "execution_count": 140,
   "metadata": {},
   "outputs": [
    {
     "name": "stdout",
     "output_type": "stream",
     "text": [
      "[[0.08839806 0.21780461 0.0087526  0.1048054  0.11290123 0.02739819\n",
      "  0.01852223 0.01116745 0.01560609 0.06556128 0.09227696 0.06602665\n",
      "  0.01558571 0.00681792 0.09397725 0.05439837]]\n"
     ]
    }
   ],
   "source": [
    "#2) вероятности состояний системы спустя 8 шагов, если в начальный момент вероятность состояний были следующими\n",
    "A = np.array([[0.05,0.08,0.11,0.02,0.09,0.02,0.12,0.07,0.06,0.1,0.03,0.07,0,0.09,0.04,0.05]])\n",
    "k = 8\n",
    "for i in range(k):\n",
    "    A = A @ P\n",
    "\n",
    "print(A)"
   ]
  },
  {
   "cell_type": "code",
   "execution_count": 141,
   "metadata": {},
   "outputs": [
    {
     "name": "stdout",
     "output_type": "stream",
     "text": [
      "0.009682042793999998\n"
     ]
    }
   ],
   "source": [
    "#3) вероятность первого перехода за 7 шагов из состояния 5 в состояние 9\n",
    "\n",
    "def task3(p, k):\n",
    "    result = np.zeros((k, len(p), len(p)))\n",
    "    for n in range(k):\n",
    "        for i in range(len(p)):\n",
    "            for j in range(len(p)):\n",
    "                if n == 0:\n",
    "                    result[n][i][j] = p[i][j]\n",
    "                for m in range(len(p)):\n",
    "                    if m != j:\n",
    "                        result[n][i][j] += p[i][m] * result[n - 1][m][j]\n",
    "    return result\n",
    "k = 7\n",
    "i = 5\n",
    "j = 9\n",
    "result_3 = task3(P, k)\n",
    "print(result_3[k - 1][i - 1][j - 1])"
   ]
  },
  {
   "cell_type": "code",
   "execution_count": 142,
   "metadata": {},
   "outputs": [
    {
     "name": "stdout",
     "output_type": "stream",
     "text": [
      "Wall time: 1min 5s\n"
     ]
    }
   ],
   "source": [
    "%%time\n",
    "result_10k = task3(P, 10000)"
   ]
  },
  {
   "cell_type": "code",
   "execution_count": 143,
   "metadata": {},
   "outputs": [
    {
     "name": "stdout",
     "output_type": "stream",
     "text": [
      "0.07317425108562\n"
     ]
    }
   ],
   "source": [
    "#4) вероятность перехода из состояния 8 в состояние 6 не позднее чем за 7 шагов\n",
    "\n",
    "\n",
    "k = 7\n",
    "i = 8\n",
    "j = 7\n",
    "temp = P.copy()\n",
    "for _ in range(1, k):\n",
    "    temp += result_10k[_]\n",
    "\n",
    "print(temp[i - 1][j - 1])"
   ]
  },
  {
   "cell_type": "code",
   "execution_count": 144,
   "metadata": {},
   "outputs": [
    {
     "name": "stdout",
     "output_type": "stream",
     "text": [
      "77.35739578130307\n"
     ]
    }
   ],
   "source": [
    "#5) среднее количество шагов для перехода из состояния 5 в состояние 13\n",
    "\n",
    "i = 5\n",
    "j = 13\n",
    "\n",
    "temp = P.copy()\n",
    "for k in range(1, 10000):\n",
    "    temp += k * result_10k[k]\n",
    "print(temp[i - 1][j - 1])"
   ]
  },
  {
   "cell_type": "code",
   "execution_count": 145,
   "metadata": {},
   "outputs": [
    {
     "name": "stdout",
     "output_type": "stream",
     "text": [
      "0.006443334313029999\n"
     ]
    }
   ],
   "source": [
    "#6) вероятность первого возвращения в состояние 8 за 7 шагов\n",
    "\n",
    "def task6(p, k):\n",
    "    if k == 1:\n",
    "        return p\n",
    "    else:\n",
    "        temp = np.zeros((k, len(p), len(p)))\n",
    "        for i in range(k):\n",
    "            temp[i] = np.linalg.matrix_power(p, i + 1)\n",
    "        fjj = temp.copy()\n",
    "        for n in range(1, k):\n",
    "            for m in range(n):\n",
    "                fjj[n] = fjj[n] - fjj[m] * temp[n - m - 1]\n",
    "        return fjj\n",
    "\n",
    "k = 7\n",
    "i = 8\n",
    "    \n",
    "return_10 = task6(P, 10)\n",
    "print(return_10[k - 1][i - 1][i - 1])"
   ]
  },
  {
   "cell_type": "code",
   "execution_count": 146,
   "metadata": {},
   "outputs": [
    {
     "name": "stdout",
     "output_type": "stream",
     "text": [
      "0.2578813720442695\n"
     ]
    }
   ],
   "source": [
    "#7) вероятность возвращения в состояние 6 не позднее чем за 8 шагов\n",
    "\n",
    "k = 8\n",
    "i = 6\n",
    "\n",
    "result = 0\n",
    "for j in range(1, k + 1):\n",
    "    result += return_10[j - 1][i - 1][i - 1]\n",
    "\n",
    "print(result)"
   ]
  },
  {
   "cell_type": "code",
   "execution_count": 147,
   "metadata": {},
   "outputs": [
    {
     "name": "stdout",
     "output_type": "stream",
     "text": [
      "Wall time: 8.38 s\n"
     ]
    }
   ],
   "source": [
    "%%time\n",
    "return_10k = task6(P, 2000)"
   ]
  },
  {
   "cell_type": "code",
   "execution_count": 157,
   "metadata": {},
   "outputs": [
    {
     "name": "stdout",
     "output_type": "stream",
     "text": [
      "35.3349687368479\n"
     ]
    }
   ],
   "source": [
    "#8) среднее время возвращения в состояние 6\n",
    "i = 6\n",
    "result = 0\n",
    "for j in range(1, 2001):\n",
    "    result += j * return_10k[j - 1][i - 1][i - 1]\n",
    "    #print(result)\n",
    "\n",
    "print(result)"
   ]
  },
  {
   "cell_type": "code",
   "execution_count": 158,
   "metadata": {},
   "outputs": [
    {
     "name": "stdout",
     "output_type": "stream",
     "text": [
      "[0.0908216  0.22448386 0.00921813 0.10675962 0.115641   0.02830058\n",
      " 0.01918367 0.01014672 0.01483689 0.06527783 0.09081953 0.06377651\n",
      " 0.01470323 0.00550123 0.08821939 0.05231019]\n"
     ]
    }
   ],
   "source": [
    "#9) установившиеся вероятности\n",
    "P_ = np.copy(P).transpose()\n",
    "for i in range(len(P_)):\n",
    "    P_[i][i] -= 1\n",
    "P_[-1, :] = 1\n",
    "\n",
    "B = np.zeros(len(P_))\n",
    "B[-1] = 1\n",
    "X = np.linalg.inv(P_).dot(B)\n",
    "\n",
    "print(X)"
   ]
  }
 ],
 "metadata": {
  "kernelspec": {
   "display_name": "Python 3",
   "language": "python",
   "name": "python3"
  },
  "language_info": {
   "codemirror_mode": {
    "name": "ipython",
    "version": 3
   },
   "file_extension": ".py",
   "mimetype": "text/x-python",
   "name": "python",
   "nbconvert_exporter": "python",
   "pygments_lexer": "ipython3",
   "version": "3.8.5"
  }
 },
 "nbformat": 4,
 "nbformat_minor": 4
}
