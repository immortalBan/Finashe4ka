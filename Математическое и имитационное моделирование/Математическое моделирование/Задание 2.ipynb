{
 "cells": [
  {
   "cell_type": "code",
   "execution_count": 1,
   "metadata": {},
   "outputs": [
    {
     "name": "stdout",
     "output_type": "stream",
     "text": [
      "[0.03344472 0.10312122 0.15897854 0.16339461 0.12595001 0.09708647\n",
      " 0.07483749 0.05768723 0.04446724 0.03427683 0.02642172 0.02036674\n",
      " 0.01569937 0.01210159 0.00932831 0.00719057 0.00554273 0.00427252\n",
      " 0.0032934  0.00253867]\n",
      "0.9999999999999997\n"
     ]
    }
   ],
   "source": [
    "import numpy\n",
    "n = 15\n",
    "m = 4\n",
    "lamda = 37\n",
    "mu = 12\n",
    "L = numpy.zeros((m+n+1, m+n+1))\n",
    "for i in range(m+n+1):\n",
    "    for j in range(m+n+1):\n",
    "        if i == j or abs(i-j) > 1:\n",
    "            L[i][j] = 0\n",
    "        elif i > j:\n",
    "            L[i][j] = min([m,i])*mu\n",
    "        else:\n",
    "            L[i][j] = lamda\n",
    "L_T = numpy.transpose(L)\n",
    "D = numpy.zeros((m+n+1, m+n+1))\n",
    "for i in range(m+n+1):\n",
    "    for j in range(m+n+1):\n",
    "        if i == j:\n",
    "            D[i][j] = sum(L[i])\n",
    "M = L_T - D\n",
    "B = numpy.zeros(n+m+1)\n",
    "B[m+n] = 1\n",
    "M_ = M.copy()\n",
    "for j in range(n+m+1):\n",
    "    M_[n+m][j] = 1\n",
    "\n",
    "X = numpy.linalg.inv(M_) @ B\n",
    "print(X)\n",
    "print(sum(X))"
   ]
  }
 ],
 "metadata": {
  "kernelspec": {
   "display_name": "Python 3",
   "language": "python",
   "name": "python3"
  },
  "language_info": {
   "codemirror_mode": {
    "name": "ipython",
    "version": 3
   },
   "file_extension": ".py",
   "mimetype": "text/x-python",
   "name": "python",
   "nbconvert_exporter": "python",
   "pygments_lexer": "ipython3",
   "version": "3.8.5"
  }
 },
 "nbformat": 4,
 "nbformat_minor": 4
}
