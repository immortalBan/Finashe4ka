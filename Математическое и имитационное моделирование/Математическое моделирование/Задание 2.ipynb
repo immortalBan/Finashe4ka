{
 "cells": [
  {
   "cell_type": "markdown",
   "metadata": {},
   "source": [
    "# Работу выполнил Бедак Иван ПИ19-4\n",
    "# Вариант 77"
   ]
  },
  {
   "cell_type": "code",
   "execution_count": 12,
   "metadata": {},
   "outputs": [],
   "source": [
    "m = 5\n",
    "n = 6\n",
    "mu = 1\n",
    "lamda = 5"
   ]
  },
  {
   "cell_type": "code",
   "execution_count": 13,
   "metadata": {},
   "outputs": [
    {
     "name": "stdout",
     "output_type": "stream",
     "text": [
      "[[0. 5. 0. 0. 0. 0. 0. 0. 0. 0. 0. 0.]\n",
      " [1. 0. 5. 0. 0. 0. 0. 0. 0. 0. 0. 0.]\n",
      " [0. 2. 0. 5. 0. 0. 0. 0. 0. 0. 0. 0.]\n",
      " [0. 0. 3. 0. 5. 0. 0. 0. 0. 0. 0. 0.]\n",
      " [0. 0. 0. 4. 0. 5. 0. 0. 0. 0. 0. 0.]\n",
      " [0. 0. 0. 0. 5. 0. 5. 0. 0. 0. 0. 0.]\n",
      " [0. 0. 0. 0. 0. 5. 0. 5. 0. 0. 0. 0.]\n",
      " [0. 0. 0. 0. 0. 0. 5. 0. 5. 0. 0. 0.]\n",
      " [0. 0. 0. 0. 0. 0. 0. 5. 0. 5. 0. 0.]\n",
      " [0. 0. 0. 0. 0. 0. 0. 0. 5. 0. 5. 0.]\n",
      " [0. 0. 0. 0. 0. 0. 0. 0. 0. 5. 0. 5.]\n",
      " [0. 0. 0. 0. 0. 0. 0. 0. 0. 0. 5. 0.]]\n"
     ]
    }
   ],
   "source": [
    "#Cоздаем матрицу интенсивностей\n",
    "L = numpy.zeros((m+n+1, m+n+1))\n",
    "for i in range(m+n+1):\n",
    "    for j in range(m+n+1):\n",
    "        if i == j or abs(i-j) > 1:\n",
    "            L[i][j] = 0\n",
    "        elif i > j:\n",
    "            L[i][j] = min([m,i])*mu\n",
    "        else:\n",
    "            L[i][j] = lamda\n",
    "\n",
    "print(L)"
   ]
  },
  {
   "cell_type": "code",
   "execution_count": 14,
   "metadata": {},
   "outputs": [
    {
     "name": "stdout",
     "output_type": "stream",
     "text": [
      "[0.00403769 0.02018843 0.05047106 0.08411844 0.10514805 0.10514805\n",
      " 0.10514805 0.10514805 0.10514805 0.10514805 0.10514805 0.10514805]\n"
     ]
    }
   ],
   "source": [
    "#a) найдите установившиеся вероятности состояний\n",
    "L_T = numpy.transpose(L)\n",
    "D = numpy.zeros((m+n+1, m+n+1))\n",
    "for i in range(m+n+1):\n",
    "    for j in range(m+n+1):\n",
    "        if i == j:\n",
    "            D[i][j] = sum(L[i])\n",
    "M = L_T - D\n",
    "B = numpy.zeros(n+m+1)\n",
    "B[m+n] = 1\n",
    "M_ = M.copy()\n",
    "for j in range(n+m+1):\n",
    "    M_[n+m][j] = 1\n",
    "\n",
    "X = numpy.linalg.inv(M_) @ B\n",
    "print(X)"
   ]
  },
  {
   "cell_type": "code",
   "execution_count": 15,
   "metadata": {},
   "outputs": [
    {
     "name": "stdout",
     "output_type": "stream",
     "text": [
      "0.10514804845222071\n"
     ]
    }
   ],
   "source": [
    "#b) Найдите вероятность отказа в обслуживании.\n",
    "print(X[-1])"
   ]
  },
  {
   "cell_type": "code",
   "execution_count": 17,
   "metadata": {},
   "outputs": [
    {
     "name": "stdout",
     "output_type": "stream",
     "text": [
      "0.8948519515477793\n",
      "4.4742597577388965\n"
     ]
    }
   ],
   "source": [
    "#c) Найдите относительную и абсолютную интенсивность обслуживания\n",
    "result = 1 - X[-1]\n",
    "print(result)\n",
    "print(lamda * result)"
   ]
  },
  {
   "cell_type": "code",
   "execution_count": 21,
   "metadata": {},
   "outputs": [
    {
     "name": "stdout",
     "output_type": "stream",
     "text": [
      "2.208109017496635\n"
     ]
    }
   ],
   "source": [
    "#d) Найдите среднюю длину в очереди\n",
    "mean = 0\n",
    "for i in range(1, n + 1):\n",
    "    mean += i * X[m + i]\n",
    "\n",
    "print(mean)"
   ]
  },
  {
   "cell_type": "code",
   "execution_count": 24,
   "metadata": {},
   "outputs": [
    {
     "name": "stdout",
     "output_type": "stream",
     "text": [
      "0.44162180349932706\n"
     ]
    }
   ],
   "source": [
    "#e) Найдите среднее время в очереди.\n",
    "mean = 0\n",
    "for i in range(n):\n",
    "    mean += (i + 1) / (m * mu) * X[m + i]\n",
    "\n",
    "print(mean)"
   ]
  },
  {
   "cell_type": "code",
   "execution_count": 27,
   "metadata": {},
   "outputs": [
    {
     "name": "stdout",
     "output_type": "stream",
     "text": [
      "4.4742597577388965\n"
     ]
    }
   ],
   "source": [
    "#f) Найдите среднее число занятых каналов.\n",
    "\n",
    "mean = 0\n",
    "for i in range(1, m + n + 1):\n",
    "    if i <= m:\n",
    "        mean += i * X[i]\n",
    "    else:\n",
    "        mean += m * X[i]\n",
    "\n",
    "print(mean)"
   ]
  },
  {
   "cell_type": "code",
   "execution_count": 28,
   "metadata": {},
   "outputs": [
    {
     "name": "stdout",
     "output_type": "stream",
     "text": [
      "0.263963660834455\n"
     ]
    }
   ],
   "source": [
    "#g) Найдите вероятность того, что поступающая заявка не будет ждать в очереди\n",
    "\n",
    "print(sum(X[:m]))"
   ]
  },
  {
   "cell_type": "code",
   "execution_count": 33,
   "metadata": {},
   "outputs": [
    {
     "name": "stdout",
     "output_type": "stream",
     "text": [
      "0.2\n"
     ]
    }
   ],
   "source": [
    "#h) Найти среднее время простоя системы массового обслуживания\n",
    "\n",
    "print((1 / numpy.sum(L, -1))[0])"
   ]
  }
 ],
 "metadata": {
  "kernelspec": {
   "display_name": "Python 3",
   "language": "python",
   "name": "python3"
  },
  "language_info": {
   "codemirror_mode": {
    "name": "ipython",
    "version": 3
   },
   "file_extension": ".py",
   "mimetype": "text/x-python",
   "name": "python",
   "nbconvert_exporter": "python",
   "pygments_lexer": "ipython3",
   "version": "3.8.5"
  }
 },
 "nbformat": 4,
 "nbformat_minor": 4
}
