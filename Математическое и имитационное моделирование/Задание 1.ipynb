{
 "cells": [
  {
   "cell_type": "code",
   "execution_count": 8,
   "metadata": {},
   "outputs": [],
   "source": [
    "import numpy as np\n",
    "P = np.array([\n",
    "    [0.1, 0.4, 0.5],\n",
    "    [0.3, 0.2, 0.5],\n",
    "    [0.6, 0.35, 0.05]\n",
    "    ])\n"
   ]
  },
  {
   "cell_type": "code",
   "execution_count": 13,
   "metadata": {},
   "outputs": [
    {
     "name": "stdout",
     "output_type": "stream",
     "text": [
      "Введите кол-во шагов\n",
      " ->2\n",
      "[[0.43   0.295  0.275 ]\n",
      " [0.39   0.335  0.275 ]\n",
      " [0.195  0.3275 0.4775]]\n"
     ]
    }
   ],
   "source": [
    "k = int(input(\"Введите кол-во шагов\\n ->\"))\n",
    "result = P\n",
    "for i in range(k-1):\n",
    "    result = result @ P\n",
    "\n",
    "print(result)"
   ]
  },
  {
   "cell_type": "code",
   "execution_count": 19,
   "metadata": {},
   "outputs": [
    {
     "name": "stdout",
     "output_type": "stream",
     "text": [
      "Введите кол-во шагов\n",
      " ->200\n",
      "[[0.20172414 0.19137931 0.20689655]]\n"
     ]
    }
   ],
   "source": [
    "A = np.array([[0.1, 0.2, 0.3]])\n",
    "k = int(input(\"Введите кол-во шагов\\n ->\"))\n",
    "for i in range(k):\n",
    "    A = A @ P\n",
    "\n",
    "print(A)"
   ]
  },
  {
   "cell_type": "code",
   "execution_count": null,
   "metadata": {},
   "outputs": [],
   "source": []
  }
 ],
 "metadata": {
  "kernelspec": {
   "display_name": "Python 3",
   "language": "python",
   "name": "python3"
  },
  "language_info": {
   "codemirror_mode": {
    "name": "ipython",
    "version": 3
   },
   "file_extension": ".py",
   "mimetype": "text/x-python",
   "name": "python",
   "nbconvert_exporter": "python",
   "pygments_lexer": "ipython3",
   "version": "3.8.5"
  }
 },
 "nbformat": 4,
 "nbformat_minor": 4
}
