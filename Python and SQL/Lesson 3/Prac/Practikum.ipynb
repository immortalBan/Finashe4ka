{
 "cells": [
  {
   "cell_type": "code",
   "execution_count": 2,
   "metadata": {},
   "outputs": [],
   "source": [
    "import sqlalchemy\n",
    "from sqlalchemy import create_engine\n",
    "\n",
    "engine = create_engine('sqlite:///university.db')"
   ]
  },
  {
   "cell_type": "code",
   "execution_count": 4,
   "metadata": {},
   "outputs": [],
   "source": [
    "from sqlalchemy import MetaData\n",
    "metadata = MetaData()"
   ]
  },
  {
   "cell_type": "code",
   "execution_count": 5,
   "metadata": {},
   "outputs": [],
   "source": [
    "from sqlalchemy import (MetaData, Table, Column, Integer, Numeric, String, DateTime, Boolean, \n",
    "                        ForeignKey, create_engine)\n",
    "from sqlalchemy import PrimaryKeyConstraint, UniqueConstraint, CheckConstraint"
   ]
  },
  {
   "cell_type": "code",
   "execution_count": 6,
   "metadata": {},
   "outputs": [],
   "source": [
    "exam_mark = Table('exam_mark', metadata,\n",
    "                  Column('exam_id', Integer(), primary_key=True, nullable=False),\n",
    "                  Column('student_id', Integer(), nullable=False),\n",
    "                  Column('subject_id', Integer(), nullable=False),\n",
    "                  Column('mark', Integer()),\n",
    "                  Column('exam_date', DateTime(), nullable=False),\n",
    "                  PrimaryKeyConstraint('exam_id', name='exam_pk'),\n",
    "                  extend_existing=True\n",
    "                 )"
   ]
  },
  {
   "cell_type": "code",
   "execution_count": 7,
   "metadata": {},
   "outputs": [],
   "source": [
    "lecturer = Table('lecturer', metadata,\n",
    "                  Column('lecturer_id', Integer(), primary_key=True, nullable=False),\n",
    "                  Column('surname', String(255), nullable=False),\n",
    "                  Column('name', String(255), nullable=False),\n",
    "                  Column('city', String(255), nullable=False),\n",
    "                  Column('university_id', Integer(), nullable=False),\n",
    "                  PrimaryKeyConstraint('lecturer_id', name='lecturer_pk'),\n",
    "                  extend_existing=True\n",
    "                 )"
   ]
  },
  {
   "cell_type": "code",
   "execution_count": 10,
   "metadata": {},
   "outputs": [],
   "source": [
    "student = Table('student', metadata,\n",
    "                  Column('student_id', Integer(), primary_key=True, nullable=False),\n",
    "                  Column('surname', String(255), nullable=False),\n",
    "                  Column('name', String(255), nullable=False),\n",
    "                  Column('stipend', Integer(), nullable=False),\n",
    "                  Column('kurs', Integer(), nullable=False),\n",
    "                  Column('city', String(255)),\n",
    "                  Column('birthday', DateTime(), nullable=False),\n",
    "                  Column('university_id', Integer(), nullable=False),\n",
    "                  PrimaryKeyConstraint('student_id', name='student_pk'),\n",
    "                  extend_existing=True\n",
    "                 )"
   ]
  },
  {
   "cell_type": "code",
   "execution_count": 11,
   "metadata": {},
   "outputs": [],
   "source": [
    "subject = Table('subject', metadata,\n",
    "                Column('subject_id', Integer(), primary_key=True, nullable=False),\n",
    "                Column('subject_name', String(255), nullable=False),\n",
    "                Column('hour', Integer(), nullable=False),\n",
    "                Column('semester', Integer(), nullable=False),\n",
    "                PrimaryKeyConstraint('subject_id', name='subject_pk'),\n",
    "                extend_existing=True\n",
    "               )"
   ]
  },
  {
   "cell_type": "code",
   "execution_count": 12,
   "metadata": {},
   "outputs": [],
   "source": [
    "subject_lecturer = Table('subject_lecturer', metadata,\n",
    "                         Column('subject_id', Integer(), nullable=False),\n",
    "                         Column('lecturer_id', Integer(), primary_key=True, nullable=False),\n",
    "                         PrimaryKeyConstraint('lecturer_id', name='subject_lecturer_pk'),\n",
    "                         extend_existing=True\n",
    "                        )"
   ]
  },
  {
   "cell_type": "code",
   "execution_count": 13,
   "metadata": {},
   "outputs": [],
   "source": [
    "university = Table('university', metadata,\n",
    "                   Column('university_id', Integer(), primary_key=True, nullable=False),\n",
    "                   Column('university_name', String(255), nullable=False),\n",
    "                   Column('rating', Integer(), nullable=False),\n",
    "                   Column('city', String(255), nullable=False),\n",
    "                   PrimaryKeyConstraint('university_id', name='university_pk'),\n",
    "                   extend_existing=True\n",
    "                  )"
   ]
  },
  {
   "cell_type": "code",
   "execution_count": 14,
   "metadata": {},
   "outputs": [],
   "source": [
    "metadata.create_all(engine)"
   ]
  },
  {
   "cell_type": "code",
   "execution_count": 15,
   "metadata": {},
   "outputs": [],
   "source": [
    "connection=engine.connect()"
   ]
  },
  {
   "cell_type": "code",
   "execution_count": 20,
   "metadata": {},
   "outputs": [],
   "source": [
    "ins=university.insert().values(\n",
    "    university_id=11,\n",
    "    university_name=\"НГУ\",\n",
    "    rating=345,\n",
    "    city=\"Новосибирск\"\n",
    ")"
   ]
  },
  {
   "cell_type": "code",
   "execution_count": 21,
   "metadata": {},
   "outputs": [],
   "source": [
    "result=connection.execute(ins)"
   ]
  },
  {
   "cell_type": "code",
   "execution_count": 23,
   "metadata": {},
   "outputs": [
    {
     "data": {
      "text/plain": [
       "[11]"
      ]
     },
     "execution_count": 23,
     "metadata": {},
     "output_type": "execute_result"
    }
   ],
   "source": [
    "result.inserted_primary_key"
   ]
  },
  {
   "cell_type": "code",
   "execution_count": 25,
   "metadata": {},
   "outputs": [
    {
     "data": {
      "text/plain": [
       "[(10, 'ВГУ', 256, 'Воронеж'), (11, 'НГУ', 345, 'Новосибирск')]"
      ]
     },
     "execution_count": 25,
     "metadata": {},
     "output_type": "execute_result"
    }
   ],
   "source": [
    "from sqlalchemy.sql import select\n",
    "s = select([university])  \n",
    "rp = connection.execute(s)\n",
    "results = rp.fetchall() \n",
    "results"
   ]
  },
  {
   "cell_type": "code",
   "execution_count": 27,
   "metadata": {},
   "outputs": [],
   "source": [
    "ins = lecturer.insert()\n",
    "\n",
    "lecturer_insert = [\n",
    "    {'lecturer_id':24, 'surname':'Колесников', 'name':'Борис', 'city':'Воронеж', 'university_id':10},\n",
    "    {'lecturer_id':46, 'surname':'Никонов', 'name':'Иван', 'city':'Воронеж', 'university_id':10}\n",
    "]\n",
    "\n",
    "\n",
    "result=connection.execute(ins,lecturer_insert)"
   ]
  },
  {
   "cell_type": "code",
   "execution_count": 28,
   "metadata": {},
   "outputs": [
    {
     "data": {
      "text/plain": [
       "[(24, 'Колесников', 'Борис', 'Воронеж', 10),\n",
       " (46, 'Никонов', 'Иван', 'Воронеж', 10)]"
      ]
     },
     "execution_count": 28,
     "metadata": {},
     "output_type": "execute_result"
    }
   ],
   "source": [
    "s = select([lecturer])  \n",
    "rp = connection.execute(s)\n",
    "results = rp.fetchall() \n",
    "results"
   ]
  }
 ],
 "metadata": {
  "kernelspec": {
   "display_name": "Python 3",
   "language": "python",
   "name": "python3"
  },
  "language_info": {
   "codemirror_mode": {
    "name": "ipython",
    "version": 3
   },
   "file_extension": ".py",
   "mimetype": "text/x-python",
   "name": "python",
   "nbconvert_exporter": "python",
   "pygments_lexer": "ipython3",
   "version": "3.8.5"
  }
 },
 "nbformat": 4,
 "nbformat_minor": 4
}
