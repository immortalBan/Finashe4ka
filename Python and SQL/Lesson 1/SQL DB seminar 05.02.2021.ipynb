{
 "cells": [
  {
   "attachments": {
    "Logical-2.png": {
     "image/png": "[encoded data removed]"
    }
   },
   "cell_type": "markdown",
   "metadata": {},
   "source": [
    "![Logical-2.png](attachment:Logical-2.png)"
   ]
  },
  {
   "cell_type": "markdown",
   "metadata": {},
   "source": [
    "### Таблица USER:\n",
    "    ID - уникальный идентефикатор\n",
    "    FIO - ФИО\n",
    "    Card_number - номер карты\n",
    "    Adress - адрес проживания\n",
    "    Phone_number - номер телефона\n",
    "    sum - сумма на счету\n",
    "\n",
    "### Таблица BANK:\n",
    "    ID - уникальный идентефикатор\n",
    "    Adress - адрес проживания\n",
    "    sum - касса банка\n",
    "\n",
    "### Таблица CREDIT:\n",
    "    ID - уникальный идентефикатор\n",
    "    Amount - сумма, на которую берётся кредит\n",
    "    data - дата заключения договора\n",
    "    percent - процентная ставка"
   ]
  },
  {
   "cell_type": "code",
   "execution_count": 2,
   "metadata": {},
   "outputs": [],
   "source": [
    "import sqlalchemy\n",
    "from sqlalchemy import create_engine\n",
    "\n",
    "engine = create_engine('sqlite:///bank.db')"
   ]
  },
  {
   "cell_type": "code",
   "execution_count": 3,
   "metadata": {},
   "outputs": [],
   "source": [
    "from sqlalchemy import MetaData\n",
    "metadata = MetaData()"
   ]
  },
  {
   "cell_type": "code",
   "execution_count": 8,
   "metadata": {},
   "outputs": [],
   "source": [
    "from sqlalchemy import (MetaData, Table, Column, Integer, Numeric, String, DateTime, Boolean, \n",
    "                        ForeignKey, create_engine)\n",
    "from sqlalchemy import PrimaryKeyConstraint, UniqueConstraint, CheckConstraint\n",
    "bank = Table('bank', metadata,\n",
    "             Column('bank_id', Integer(), primary_key=True, nullable=False),\n",
    "             Column('bank_adress', String(255), nullable=False),\n",
    "             Column('bank_sum', Integer(), nullable=False),\n",
    "             PrimaryKeyConstraint('bank_id', name='bank_pk'),\n",
    "             extend_existing=True\n",
    "            )"
   ]
  },
  {
   "cell_type": "code",
   "execution_count": 11,
   "metadata": {},
   "outputs": [],
   "source": [
    "user = Table('user', metadata,\n",
    "             Column('user_id', Integer(), primary_key=True, nullable=False),\n",
    "             Column('user_fio', String(255), nullable=False),\n",
    "             Column('user_card_number', String(255), nullable=False),\n",
    "             Column('user_sum', Integer(), nullable=False),\n",
    "             Column('user_adress', String(255)),\n",
    "             Column('user_phone_number', String(255)),\n",
    "             Column('bank_id_fk', ForeignKey('bank.bank_id')),\n",
    "             PrimaryKeyConstraint('user_id', name='user_pk'),\n",
    "             extend_existing=True\n",
    "            )"
   ]
  },
  {
   "cell_type": "code",
   "execution_count": 15,
   "metadata": {},
   "outputs": [],
   "source": [
    "credit = Table('credit', metadata,\n",
    "               Column('credit_id', Integer(), primary_key=True, nullable=False),\n",
    "               Column('user_fk', ForeignKey('user.user_id')),\n",
    "               Column('bank_fk', ForeignKey('bank.bank_id')),\n",
    "               Column('credit_amount', Integer(), nullable=False),\n",
    "               Column('credit_date', DateTime(), nullable=False),\n",
    "               Column('credit_percent', String(20), nullable=False),\n",
    "               PrimaryKeyConstraint('credit_id', name='credit_pk'),\n",
    "               extend_existing=True\n",
    "              )"
   ]
  },
  {
   "cell_type": "code",
   "execution_count": 17,
   "metadata": {},
   "outputs": [],
   "source": [
    "metadata.create_all(engine)"
   ]
  }
 ],
 "metadata": {
  "kernelspec": {
   "display_name": "Python 3 (ipykernel)",
   "language": "python",
   "name": "python3"
  },
  "language_info": {
   "codemirror_mode": {
    "name": "ipython",
    "version": 3
   },
   "file_extension": ".py",
   "mimetype": "text/x-python",
   "name": "python",
   "nbconvert_exporter": "python",
   "pygments_lexer": "ipython3",
   "version": "3.9.12"
  }
 },
 "nbformat": 4,
 "nbformat_minor": 4
}
