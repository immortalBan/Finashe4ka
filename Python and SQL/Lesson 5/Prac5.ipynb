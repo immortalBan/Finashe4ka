{
 "cells": [
  {
   "cell_type": "code",
   "execution_count": 44,
   "metadata": {},
   "outputs": [],
   "source": [
    "from sqlalchemy import select, create_engine, MetaData, Table, func, String, cast\n",
    "import datetime\n",
    "from sqlalchemy.sql import func as function\n",
    "\n",
    "import warnings\n",
    "warnings.filterwarnings('ignore')"
   ]
  },
  {
   "cell_type": "code",
   "execution_count": 2,
   "metadata": {},
   "outputs": [],
   "source": [
    "engine = create_engine('sqlite:///Students.db')\n",
    "metadata = MetaData()\n",
    "connection = engine.connect()"
   ]
  },
  {
   "cell_type": "code",
   "execution_count": 3,
   "metadata": {},
   "outputs": [],
   "source": [
    "exam_marks = Table('exam_marks', metadata, autoload=True, autoload_with=engine)\n",
    "lecturer = Table('lecturer', metadata, autoload=True, autoload_with=engine)\n",
    "student = Table('student', metadata, autoload=True, autoload_with=engine)\n",
    "subj_lect = Table('subj_lect', metadata, autoload=True, autoload_with=engine)\n",
    "subject = Table('subject', metadata, autoload=True, autoload_with=engine)\n",
    "university = Table('university', metadata, autoload=True, autoload_with=engine)"
   ]
  },
  {
   "cell_type": "code",
   "execution_count": 51,
   "metadata": {},
   "outputs": [
    {
     "name": "stdout",
     "output_type": "stream",
     "text": [
      "1;ИВАНОВ;ИВАН;150;ОРЕЛ;03/12/1982;10\n",
      "3;ПЕТРОВ;ПЕТР;200;КУРСК;01/12/1980;10\n",
      "6;СИДОРОВ;ВАДИМ;150;МОСКВА;07/06/1979;22\n",
      "10;КУЗНЕЦОВ;БОРИС;0;БРЯНСК;08/12/1981;10\n",
      "12;ЗАЙЦЕВА;ОЛЬГА;250;ЛИПЕЦК;01/05/1981;10\n",
      "32;КОТОВ;ПАВЕЛ;150;БЕЛГОРОД;28/02/2021;14\n",
      "55;БЕЛКИН;ВАДИМ;250;ВОРОНЕЖ;07/01/1980;10\n",
      "265;ПАВЛОВ;АНДРЕЙ;0;ВОРОНЕЖ;05/11/1979;10\n",
      "None\n",
      "654;ЛУКИН;АРТЕМ;200;ВОРОНЕЖ;01/12/1981;10\n"
     ]
    }
   ],
   "source": [
    "#1\n",
    "s = select([cast(function.upper(student.c.student_id), String(20)) + ';' + cast((student.c.surname), String(20)) + ';' + cast(func.upper(student.c.name), String(20)) + ';' + cast(student.c.stipend, String(20)) + ';' + cast(func.upper(student.c.city), String(20)) + ';' + cast(func.strftime('%d/%m/%Y', student.c.birthday), String(20)) + ';' + cast(student.c.univ_id, String(20))])\n",
    "result = connection.execute(s).fetchall()\n",
    "for row in result:\n",
    "    try:\n",
    "        print(row[0].upper())\n",
    "    except:\n",
    "        print(row[0])"
   ]
  },
  {
   "cell_type": "code",
   "execution_count": 53,
   "metadata": {},
   "outputs": [
    {
     "name": "stdout",
     "output_type": "stream",
     "text": [
      "И.Иванов; место жительства - Орел; родился - 03/12/1982\n",
      "П.Петров; место жительства - Курск; родился - 01/12/1980\n",
      "В.Сидоров; место жительства - Москва; родился - 07/06/1979\n",
      "Б.Кузнецов; место жительства - Брянск; родился - 08/12/1981\n",
      "О.Зайцева; место жительства - Липецк; родился - 01/05/1981\n",
      "П.Котов; место жительства - Белгород; родился - 28/02/2021\n",
      "В.Белкин; место жительства - Воронеж; родился - 07/01/1980\n",
      "А.Павлов; место жительства - Воронеж; родился - 05/11/1979\n",
      "None\n",
      "А.Лукин; место жительства - Воронеж; родился - 01/12/1981\n"
     ]
    }
   ],
   "source": [
    "#2\n",
    "s = select([cast(function.substr(student.c.name, 1, 1), String(20)) + '.' + cast((student.c.surname), String(20)) + '; место жительства - ' + cast(student.c.city, String(20)) + '; родился - ' + cast(func.strftime('%d/%m/%Y', student.c.birthday), String(20))])\n",
    "result = connection.execute(s).fetchall()\n",
    "for row in result:\n",
    "    print(row[0])"
   ]
  }
 ],
 "metadata": {
  "kernelspec": {
   "display_name": "Python 3",
   "language": "python",
   "name": "python3"
  },
  "language_info": {
   "codemirror_mode": {
    "name": "ipython",
    "version": 3
   },
   "file_extension": ".py",
   "mimetype": "text/x-python",
   "name": "python",
   "nbconvert_exporter": "python",
   "pygments_lexer": "ipython3",
   "version": "3.8.5"
  }
 },
 "nbformat": 4,
 "nbformat_minor": 4
}
