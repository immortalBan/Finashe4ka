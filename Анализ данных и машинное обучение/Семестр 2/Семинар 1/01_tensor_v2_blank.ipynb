{
 "cells": [
  {
   "cell_type": "markdown",
   "metadata": {
    "id": "_gE94V3G1RCx"
   },
   "source": [
    "# 01. Знакомство с `torch.Tensor`\n",
    "\n",
    "V 0.1 04.02.2021"
   ]
  },
  {
   "cell_type": "markdown",
   "metadata": {
    "id": "TlWOXn0f1RC7"
   },
   "source": [
    "---"
   ]
  },
  {
   "cell_type": "markdown",
   "metadata": {
    "id": "lZfJ1FRM1RC8"
   },
   "source": [
    "При решении данных задач не подразумевается использования циклов или генераторов Python, если в задании не сказано обратного. Решение должно опираться на использование функционала библиотеки `torch`.\n",
    "\n",
    "[PyTorch documentation](https://pytorch.org/docs/stable/#pytorch-documentation)"
   ]
  },
  {
   "cell_type": "code",
   "execution_count": 1,
   "metadata": {
    "id": "b3AW8rF-1RC9"
   },
   "outputs": [],
   "source": [
    "import torch"
   ]
  },
  {
   "cell_type": "markdown",
   "metadata": {
    "id": "vow49PuE1RC9"
   },
   "source": [
    "## 1.1 Создание тензоров и выполнение базовых операций над ними\n",
    "\n",
    "[Документация по функциям для создания тензоров](https://pytorch.org/docs/stable/torch.html#creation-ops)\n",
    "\n",
    "[Документация по функциям для работы с индексами](https://pytorch.org/docs/stable/torch.html#indexing-slicing-joining-mutating-ops)"
   ]
  },
  {
   "cell_type": "markdown",
   "metadata": {
    "id": "wBIwO1SB1RC-"
   },
   "source": [
    "1.1.1 Создайте двумерный тензор размера (8, 8). Используя как можно меньше операций, добейтесь расстановки кодов \"шахматных фигур\".\n",
    "\n",
    "Ожидаемый результат:\n",
    "\n",
    "```\n",
    "[[-4., -3., -2., -6., -5., -2., -3., -4.],\n",
    " [-1., -1., -1., -1., -1., -1., -1., -1.],\n",
    " [0., 0., 0., 0., 0., 0., 0., 0.],\n",
    " [0., 0., 0., 0., 0., 0., 0., 0.],\n",
    " [0., 0., 0., 0., 0., 0., 0., 0.],\n",
    " [0., 0., 0., 0., 0., 0., 0., 0.],\n",
    " [1., 1., 1., 1., 1., 1., 1., 1.],\n",
    " [4., 3., 2., 6., 5., 2., 3., 4.]]\n",
    "\n",
    "```"
   ]
  },
  {
   "cell_type": "code",
   "execution_count": 15,
   "metadata": {},
   "outputs": [
    {
     "data": {
      "text/plain": [
       "tensor([[-4., -3., -2., -6., -5., -2., -3., -4.],\n",
       "        [-1., -1., -1., -1., -1., -1., -1., -1.],\n",
       "        [ 0.,  0.,  0.,  0.,  0.,  0.,  0.,  0.],\n",
       "        [ 0.,  0.,  0.,  0.,  0.,  0.,  0.,  0.],\n",
       "        [ 0.,  0.,  0.,  0.,  0.,  0.,  0.,  0.],\n",
       "        [ 0.,  0.,  0.,  0.,  0.,  0.,  0.,  0.],\n",
       "        [ 1.,  1.,  1.,  1.,  1.,  1.,  1.,  1.],\n",
       "        [ 4.,  3.,  2.,  6.,  5.,  2.,  3.,  4.]])"
      ]
     },
     "execution_count": 15,
     "metadata": {},
     "output_type": "execute_result"
    }
   ],
   "source": [
    "chess = torch.zeros((8, 8))\n",
    "chess[1] = torch.tensor([-1, -1, -1, -1, -1, -1, -1, -1])\n",
    "chess[0] = torch.tensor([-4, -3, -2, -6, -5, -2, -3, -4])\n",
    "chess[6] = chess[1] * -1\n",
    "chess[7] = chess[0] * -1 \n",
    "chess"
   ]
  },
  {
   "cell_type": "markdown",
   "metadata": {
    "id": "20x5RE1V1RC_"
   },
   "source": [
    "1.1.2 Средствами `torch` рассчитать произведения четных чисел от 2 до 20 на ближайшие к ним бОльшие нечетные числа."
   ]
  },
  {
   "cell_type": "code",
   "execution_count": 7,
   "metadata": {},
   "outputs": [
    {
     "data": {
      "text/plain": [
       "tensor([  6,  20,  42,  72, 110, 156, 210, 272, 342, 420])"
      ]
     },
     "execution_count": 7,
     "metadata": {},
     "output_type": "execute_result"
    }
   ],
   "source": [
    "mult = torch.arange(2, 21, 2) * torch.arange(3, 22, 2)\n",
    "mult"
   ]
  },
  {
   "cell_type": "markdown",
   "metadata": {
    "id": "N_-t5GRM1RC_"
   },
   "source": [
    "1.1.3 Создать тензор размера 11x7 вида: [[1, 2, 3, ..., 7], [11, 12, 13, ..., 17], [21, 22, 23, ..., 27], ..., [101, 102, 103, ..., 107]]"
   ]
  },
  {
   "cell_type": "code",
   "execution_count": 12,
   "metadata": {},
   "outputs": [
    {
     "data": {
      "text/plain": [
       "tensor([[  1,   2,   3,   4,   5,   6,   7],\n",
       "        [ 11,  12,  13,  14,  15,  16,  17],\n",
       "        [ 21,  22,  23,  24,  25,  26,  27],\n",
       "        [ 31,  32,  33,  34,  35,  36,  37],\n",
       "        [ 41,  42,  43,  44,  45,  46,  47],\n",
       "        [ 51,  52,  53,  54,  55,  56,  57],\n",
       "        [ 61,  62,  63,  64,  65,  66,  67],\n",
       "        [ 71,  72,  73,  74,  75,  76,  77],\n",
       "        [ 81,  82,  83,  84,  85,  86,  87],\n",
       "        [ 91,  92,  93,  94,  95,  96,  97],\n",
       "        [101, 102, 103, 104, 105, 106, 107]])"
      ]
     },
     "execution_count": 12,
     "metadata": {},
     "output_type": "execute_result"
    }
   ],
   "source": [
    "tensor11_7 = torch.arange(11*7).reshape(11, 7) + torch.arange(0, 31, 3).reshape(11, 1) + 1\n",
    "tensor11_7"
   ]
  },
  {
   "cell_type": "markdown",
   "metadata": {
    "id": "oxVeUiHR1RC_"
   },
   "source": [
    "1.1.4 Написать функцию, которая для целых значений `n` и `m` будет возвращать тензор размера `n`x`m`, заполненный текстурой размера 2x2, состоящей из следующих значений:\n",
    "\n",
    "```\n",
    "0 1\n",
    "\n",
    "2 3\n",
    "\n",
    "```\n",
    "\n",
    "Пример для n = 4 и m = 5:\n",
    "\n",
    "```\n",
    "0 1 0 1 0\n",
    "\n",
    "2 3 2 3 2\n",
    "\n",
    "0 1 0 1 0\n",
    "\n",
    "2 3 2 3 2\n",
    "```"
   ]
  },
  {
   "cell_type": "code",
   "execution_count": 24,
   "metadata": {},
   "outputs": [
    {
     "data": {
      "text/plain": [
       "tensor([[0., 1., 0., 1., 0.],\n",
       "        [2., 3., 2., 3., 2.],\n",
       "        [0., 1., 0., 1., 0.],\n",
       "        [2., 3., 2., 3., 2.]])"
      ]
     },
     "execution_count": 24,
     "metadata": {},
     "output_type": "execute_result"
    }
   ],
   "source": [
    "n, m = int(input()), int(input())\n",
    "indexes_x = torch.arange(1, m, 2)\n",
    "indexes_y = torch.arange(1, n, 2)\n",
    "\n",
    "result = torch.zeros((n, m))\n",
    "result[indexes_y] += 2\n",
    "result[:, indexes_x] += 1\n",
    "result\n"
   ]
  },
  {
   "cell_type": "markdown",
   "metadata": {
    "id": "WH9hxJse1RDA"
   },
   "source": [
    "1.1.5 Сгенерировать двумерный тензор `t` размерности (4, 7), состоящий из случайных действительных чисел, равномерно распределенных в дипазоне от 0 до 20. Нормализовать значения массива с помощью преобразования вида $ax+b$ так, что после нормализации максимальный элемент масива будет равен 1.0, минимальный 0.0"
   ]
  },
  {
   "cell_type": "code",
   "execution_count": 205,
   "metadata": {},
   "outputs": [
    {
     "data": {
      "text/plain": [
       "tensor([[0.6923, 0.7003, 0.0688, 0.5558, 0.4663, 0.2342, 0.1667],\n",
       "        [0.6499, 1.0000, 0.0000, 0.1022, 0.7174, 0.9586, 0.6365],\n",
       "        [0.7458, 0.9741, 0.0510, 0.7807, 0.8277, 0.1596, 0.0509],\n",
       "        [0.1355, 0.8947, 0.6522, 0.1708, 0.9847, 0.5970, 0.3229]])"
      ]
     },
     "execution_count": 205,
     "metadata": {},
     "output_type": "execute_result"
    }
   ],
   "source": [
    "t = torch.rand((4, 7)) * 20\n",
    "t = 1 / (t.max() - t.min()) * t - t.min() / (t.max() - t.min())\n",
    "t"
   ]
  },
  {
   "cell_type": "markdown",
   "metadata": {
    "id": "vPqIeewXB-mM"
   },
   "source": [
    "[Random Sampling](https://pytorch.org/docs/stable/torch.html#random-sampling)\n",
    "\n",
    "[Distributions](https://pytorch.org/docs/stable/distributions.html)"
   ]
  },
  {
   "cell_type": "markdown",
   "metadata": {
    "id": "K_R6cwq11RDE"
   },
   "source": [
    "1.1.6 Задать два двумерных тензора `ar1` и `ar2` размерности (4, 7), состоящих из случайных целых чисел в пределах от 0 до 10. Построить двумерный тензор размерности (4, 7), каждый элемент которого представляет собой максимум из двух значений, находящихся на аналогичной позиции в тензорах `ar1`, `ar2`.\n",
    "\n",
    "[Reductions ops](https://pytorch.org/docs/stable/torch.html#reduction-ops)"
   ]
  },
  {
   "cell_type": "code",
   "execution_count": 53,
   "metadata": {},
   "outputs": [
    {
     "name": "stdout",
     "output_type": "stream",
     "text": [
      "tensor([[ 9,  6, 10,  6,  3,  2,  0],\n",
      "        [ 4,  4,  8,  4,  9,  2, 10],\n",
      "        [ 2, 10,  0,  9,  0,  5,  3],\n",
      "        [ 6,  3,  7, 10,  6,  1,  0]])\n",
      "tensor([[ 0, 10,  3,  9,  1,  8,  3],\n",
      "        [ 7,  2,  8,  6,  9,  6, 10],\n",
      "        [ 0,  0, 10,  0,  4,  6,  7],\n",
      "        [ 4,  4,  4,  5,  3,  3,  9]])\n"
     ]
    },
    {
     "data": {
      "text/plain": [
       "tensor([[ 9, 10, 10,  9,  3,  8,  3],\n",
       "        [ 7,  4,  8,  6,  9,  6, 10],\n",
       "        [ 2, 10, 10,  9,  4,  6,  7],\n",
       "        [ 6,  4,  7, 10,  6,  3,  9]])"
      ]
     },
     "execution_count": 53,
     "metadata": {},
     "output_type": "execute_result"
    }
   ],
   "source": [
    "ar1 = torch.randint(0, 11, size=(4, 7))\n",
    "ar2 = torch.randint(0, 11, size=(4, 7))\n",
    "print(ar1, ar2, sep='\\n')\n",
    "\n",
    "result = torch.cat((ar1, ar2)).reshape((2, 4, 7)).max(axis=0).values\n",
    "result"
   ]
  },
  {
   "cell_type": "markdown",
   "metadata": {
    "id": "x6zmMhyKBPWQ"
   },
   "source": [
    "1.1.7 Создать тензор из 20 случайных целых чисел от 0 до 100. Получить второе сверху значение в тензоре. Определить индекс этого значения."
   ]
  },
  {
   "cell_type": "code",
   "execution_count": 58,
   "metadata": {},
   "outputs": [
    {
     "name": "stdout",
     "output_type": "stream",
     "text": [
      "tensor([ 3, 25, 69,  5, 62, 48, 79, 42, 41, 12, 58, 33, 24, 97, 96, 41, 99, 41,\n",
      "        41, 54])\n"
     ]
    },
    {
     "data": {
      "text/plain": [
       "tensor(13)"
      ]
     },
     "execution_count": 58,
     "metadata": {},
     "output_type": "execute_result"
    }
   ],
   "source": [
    "arr = torch.randint(0, 101, size=(20,))\n",
    "print(arr)\n",
    "result = arr.sort().indices[-2]\n",
    "result"
   ]
  },
  {
   "cell_type": "markdown",
   "metadata": {
    "id": "Xshsy8fD1RDE"
   },
   "source": [
    "## 1.2 Распространение"
   ]
  },
  {
   "cell_type": "markdown",
   "metadata": {
    "id": "jlP22HAJCo28"
   },
   "source": [
    "[Numpy broadcasting](https://numpy.org/devdocs/user/theory.broadcasting.html)\n",
    "\n",
    "[Torch broadcasting](https://pytorch.org/docs/stable/notes/broadcasting.html)"
   ]
  },
  {
   "cell_type": "markdown",
   "metadata": {
    "id": "uRD6-8Gd1RDF"
   },
   "source": [
    "1.2.1 Создать тензор 11x7 вида: `[[1, 2, 3, ..., 7], [11, 12, 13, ..., 17], [21, 22, 23, ..., 27], ..., [101, 102, 103, ..., 107]]`. При решении задачи применить технику распространения."
   ]
  },
  {
   "cell_type": "code",
   "execution_count": null,
   "metadata": {},
   "outputs": [],
   "source": [
    "tensor11_7 = torch.arange(11*7).reshape(11, 7) + torch.arange(0, 31, 3).reshape(11, 1) + 1\n",
    "tensor11_7"
   ]
  },
  {
   "cell_type": "markdown",
   "metadata": {
    "id": "iSY9Iday1RDF"
   },
   "source": [
    "1.2.2 Вычесть одномерный тензор `b_1d` из двухмерного тензора `a_2d`, так, чтобы каждый элемент одномерного тензора вычитался из всех элементов соответствующих строк двумерного тензора.\n",
    "\n",
    "_Пример:_\n",
    "\n",
    "Для входа:\n",
    "```python\n",
    "a_2d = torch.tensor([[3,3,3],[4,4,4],[5,5,5]])\n",
    "b_1d = torch.tensor([1,2,3])\n",
    "```\n",
    "\n",
    "Ожидается резульат:\n",
    "\n",
    "```python\n",
    "[[2 2 2]\n",
    " [2 2 2]\n",
    " [2 2 2]]\n",
    "```"
   ]
  },
  {
   "cell_type": "code",
   "execution_count": 90,
   "metadata": {},
   "outputs": [
    {
     "name": "stdout",
     "output_type": "stream",
     "text": [
      "tensor([[2, 2, 2],\n",
      "        [2, 2, 2],\n",
      "        [2, 2, 2]])\n"
     ]
    }
   ],
   "source": [
    "a_2d = torch.tensor([[3,3,3],[4,4,4],[5,5,5]])\n",
    "b_1d = torch.tensor([1,2,3])\n",
    "\n",
    "print(a_2d - b_1d.reshape(b_1d.size()[0], 1))"
   ]
  },
  {
   "cell_type": "markdown",
   "metadata": {
    "id": "dFTvPsY91RDF"
   },
   "source": [
    "## 1.3 Индексы, маскирование и прихотливое индексирование\n",
    "\n",
    "[Документация по функциям для работы с индексами](https://pytorch.org/docs/stable/torch.html#indexing-slicing-joining-mutating-ops)"
   ]
  },
  {
   "cell_type": "markdown",
   "metadata": {
    "id": "McYtDYhH1RDG"
   },
   "source": [
    "1.3.1 Получить индексы, для которых элементы тензоров `a` и `b` совпадают.\n",
    "\n",
    "_Пример:_\n",
    "\n",
    "Для входа:\n",
    "```python\n",
    "a = torch.tensor([1,2,3,2,3,4,3,4,5,6])\n",
    "b = torch.tensor([7,2,10,2,7,4,9,4,9,8])\n",
    "```\n",
    "\n",
    "Ожидается резульат:\n",
    "\n",
    "```python\n",
    "tensor([1, 3, 5, 7])\n",
    "```"
   ]
  },
  {
   "cell_type": "code",
   "execution_count": 65,
   "metadata": {},
   "outputs": [
    {
     "data": {
      "text/plain": [
       "tensor([1, 3, 5, 7])"
      ]
     },
     "execution_count": 65,
     "metadata": {},
     "output_type": "execute_result"
    }
   ],
   "source": [
    "a = torch.tensor([1,2,3,2,3,4,3,4,5,6])\n",
    "b = torch.tensor([7,2,10,2,7,4,9,4,9,8])\n",
    "\n",
    "equal, = (a == b).nonzero(as_tuple=True)\n",
    "equal\n"
   ]
  },
  {
   "cell_type": "markdown",
   "metadata": {
    "id": "MnBq3nfy1RDG"
   },
   "source": [
    "1.3.2 Инвертировать порядок элементов в двумерном тензоре `torch.arange(9).view(3,3)`.\n",
    "\n",
    "Ожидаемый результат:\n",
    "\n",
    "\n",
    "```python\n",
    "tensor([[8, 7, 6],\n",
    "       [5, 4, 3],\n",
    "       [2, 1, 0]])\n",
    "```"
   ]
  },
  {
   "cell_type": "code",
   "execution_count": 75,
   "metadata": {},
   "outputs": [
    {
     "data": {
      "text/plain": [
       "tensor([[8, 7, 6],\n",
       "        [5, 4, 3],\n",
       "        [2, 1, 0]])"
      ]
     },
     "execution_count": 75,
     "metadata": {},
     "output_type": "execute_result"
    }
   ],
   "source": [
    "arr = torch.arange(9).view(3,3)\n",
    "# (arr - 8) * (-1)\n",
    "arr = arr.flip(1).flip(0)\n",
    "arr"
   ]
  },
  {
   "cell_type": "markdown",
   "metadata": {
    "id": "tANsLnOC1RDH"
   },
   "source": [
    "1.3.3 Из входного тензора a получить только элементы, находящиеся в диапазоне от 5 до 10.\n",
    "\n",
    "_Пример:_\n",
    "\n",
    "Для входа:\n",
    "```python\n",
    "a = torch.tensor([2, 6, 1, 9, 10, 3, 27])\n",
    "```\n",
    "\n",
    "Ожидается результат:\n",
    "\n",
    "```python\n",
    "tensor([6, 9, 10])\n",
    "```"
   ]
  },
  {
   "cell_type": "code",
   "execution_count": 76,
   "metadata": {},
   "outputs": [
    {
     "name": "stdout",
     "output_type": "stream",
     "text": [
      "tensor([ 6,  9, 10])\n"
     ]
    }
   ],
   "source": [
    "a = torch.tensor([2, 6, 1, 9, 10, 3, 27])\n",
    "print(a[(a >= 5) & (a <= 10)])"
   ]
  },
  {
   "cell_type": "markdown",
   "metadata": {
    "id": "3vlK0gV21RDH"
   },
   "source": [
    "1.3.4 Поменять местами столбец 1 и 2 тензора `torch.arange(9).reshape(3,3)`"
   ]
  },
  {
   "cell_type": "code",
   "execution_count": 93,
   "metadata": {},
   "outputs": [
    {
     "data": {
      "text/plain": [
       "tensor([[0, 2, 1],\n",
       "        [3, 5, 4],\n",
       "        [6, 8, 7]])"
      ]
     },
     "execution_count": 93,
     "metadata": {},
     "output_type": "execute_result"
    }
   ],
   "source": [
    "arr = torch.arange(9).reshape(3,3)\n",
    "arr = arr[:, [0, 2, 1]]\n",
    "arr"
   ]
  },
  {
   "cell_type": "markdown",
   "metadata": {
    "id": "cheFtWhU1RDH"
   },
   "source": [
    "1.3.5 Создать тензор 8 на 10 из случайных целых чисел из диапазона от 0 до 10 и найти в ней строку (ее индекс и вывести саму строку), в которой сумма значений минимальна."
   ]
  },
  {
   "cell_type": "code",
   "execution_count": 109,
   "metadata": {},
   "outputs": [
    {
     "name": "stdout",
     "output_type": "stream",
     "text": [
      "tensor([[ 1,  2,  2,  1,  4,  8,  5,  9, 10,  8],\n",
      "        [ 4,  0,  8,  3,  1,  0,  4,  1,  0, 10],\n",
      "        [10,  0,  3,  7,  2,  3,  7,  0,  8,  7],\n",
      "        [ 6,  4,  3,  3, 10,  7,  0, 10,  6,  7],\n",
      "        [ 1,  8,  1, 10,  5, 10, 10,  4, 10,  4],\n",
      "        [ 6,  9,  3,  4,  2, 10,  7,  2,  1,  8],\n",
      "        [ 8,  2,  5,  6,  6,  4,  9,  6,  1,  8],\n",
      "        [ 4,  5,  9,  4,  9,  8,  8, 10,  3,  3]])\n",
      "4\n",
      "tensor([ 1,  8,  1, 10,  5, 10, 10,  4, 10,  4])\n"
     ]
    }
   ],
   "source": [
    "arr = torch.randint(0, 11, size=(8, 10))\n",
    "print(arr)\n",
    "index = arr.sum(axis=1).max(axis=0).indices.item()\n",
    "print(index)\n",
    "print(arr[index])"
   ]
  },
  {
   "cell_type": "markdown",
   "metadata": {
    "id": "grOCNU4XFE2B"
   },
   "source": [
    "1.3.6 Cоздать тензор из 20 случайных целых чисел от 0 до 100. Обрезать значения тензора (заменить значения, выходящие за диапазон, на крайние значения) снизу по значению 30, сверху по значению 70."
   ]
  },
  {
   "cell_type": "code",
   "execution_count": 114,
   "metadata": {},
   "outputs": [
    {
     "name": "stdout",
     "output_type": "stream",
     "text": [
      "tensor([26, 52, 72, 18, 85, 73, 62, 34, 96, 12, 92, 50, 10, 94, 82, 41, 42, 52,\n",
      "        23, 75])\n"
     ]
    },
    {
     "data": {
      "text/plain": [
       "tensor([30, 52, 70, 30, 70, 70, 62, 34, 70, 30, 70, 50, 30, 70, 70, 41, 42, 52,\n",
       "        30, 70])"
      ]
     },
     "execution_count": 114,
     "metadata": {},
     "output_type": "execute_result"
    }
   ],
   "source": [
    "arr = torch.randint(0, 101, size=(20, ))\n",
    "print(arr)\n",
    "arr[(arr < 30)] = 30\n",
    "arr[(arr > 70)] = 70\n",
    "arr"
   ]
  },
  {
   "cell_type": "markdown",
   "metadata": {
    "id": "HNfQjY8P1RDI"
   },
   "source": [
    "1.3.7 Создать два тензора размера 30 на 3 из случайных целых чисел из диапазона от 0 до 10 и найти все значения первого тензора, которые больше соответсвующих (по расположению) значений второго тензора. Подсчитать сумму этих значений."
   ]
  },
  {
   "cell_type": "code",
   "execution_count": 117,
   "metadata": {},
   "outputs": [
    {
     "name": "stdout",
     "output_type": "stream",
     "text": [
      "tensor([ 6,  7,  5,  3,  7,  7,  6,  9, 10,  8, 10,  7,  9,  4,  9,  4,  2,  9,\n",
      "         5,  5, 10, 10,  7,  8,  3,  3,  7, 10,  7,  9, 10,  7,  7,  7,  6, 10,\n",
      "         8,  5,  4])\n",
      "270\n"
     ]
    }
   ],
   "source": [
    "arr1 = torch.randint(0, 11, size=(30, 3))\n",
    "arr2 = torch.randint(0, 11, size=(30, 3))\n",
    "\n",
    "print(arr1[arr1 > arr2])\n",
    "print(arr1[arr1 > arr2].sum().item())"
   ]
  },
  {
   "cell_type": "markdown",
   "metadata": {
    "id": "doBCxYJA1RDI"
   },
   "source": [
    "1.3.8 При помощи прихотливого индексирования для двухмерного массива размерности (20, 20), состоящего из случайных целых чисел в пределах от 0 до 10 получить массив элементов находящихся на диагонали, проходящей над основной диагональю."
   ]
  },
  {
   "cell_type": "code",
   "execution_count": 122,
   "metadata": {},
   "outputs": [
    {
     "name": "stdout",
     "output_type": "stream",
     "text": [
      "tensor([[ 2, 10,  0, 10, 10,  7,  1,  8,  1,  4,  9,  7,  4, 10,  1,  2,  8,  4,\n",
      "          9,  7],\n",
      "        [ 6,  3, 10,  0,  1,  8,  1,  3, 10,  8,  3,  7,  9,  4,  4, 10,  8,  0,\n",
      "          3,  5],\n",
      "        [ 2, 10,  8,  8,  6,  2,  5,  9, 10,  7,  0,  6,  6, 10,  0,  0,  0,  3,\n",
      "          5,  3],\n",
      "        [ 1,  5,  6,  0,  0,  6,  0,  1,  7,  6,  3,  7,  1,  4,  9,  5,  0,  4,\n",
      "          7,  0],\n",
      "        [ 4,  3,  0,  7, 10,  0, 10,  8,  1,  4,  4,  3,  3, 10,  1, 10,  5,  7,\n",
      "          5,  9],\n",
      "        [ 2,  6,  1,  4,  9,  2,  0,  1,  3, 10,  9, 10,  1,  8,  5,  8,  2,  6,\n",
      "          7, 10],\n",
      "        [ 5,  4,  7,  8,  3,  4,  8,  0,  4, 10, 10,  4,  7,  6,  1, 10,  0,  6,\n",
      "          4,  4],\n",
      "        [ 9,  2,  9,  7,  9,  0,  9, 10,  9, 10, 10,  9,  7,  5,  2, 10,  2,  5,\n",
      "          1,  8],\n",
      "        [ 5,  3, 10,  3,  0,  5,  0,  1,  2,  4, 10,  3,  4,  1,  1,  9,  1,  3,\n",
      "          8,  6],\n",
      "        [ 2,  6,  8,  5, 10,  0,  9, 10,  7,  0,  9,  4,  6,  4,  3, 10, 10,  0,\n",
      "          9, 10],\n",
      "        [10,  7,  0,  8,  7,  3,  3,  7,  8,  5,  0,  0,  8,  0,  0,  1, 10,  0,\n",
      "          8,  2],\n",
      "        [ 2,  0,  3, 10, 10,  6,  2,  8,  7,  6,  4,  0,  5,  9,  9,  4,  0,  2,\n",
      "          2,  6],\n",
      "        [10, 10,  3,  6,  0,  9,  7,  6,  8,  7,  9,  3,  8,  9,  6,  5,  6,  1,\n",
      "          6,  1],\n",
      "        [ 7, 10,  5, 10,  8,  5,  5,  9, 10,  7, 10, 10,  4,  2,  0,  3,  7,  6,\n",
      "          7,  0],\n",
      "        [ 7,  1,  7, 10,  7,  5,  6,  1,  2,  1,  7,  0, 10,  9,  5,  2, 10,  6,\n",
      "         10,  1],\n",
      "        [ 8,  1,  6,  1, 10,  8,  3,  7,  1,  7,  5,  2,  6,  4,  1,  8,  9,  0,\n",
      "          3,  4],\n",
      "        [ 6,  7,  2,  2,  9,  5,  8,  3,  1,  2,  7,  6,  0,  7,  2,  3,  4,  1,\n",
      "          5,  0],\n",
      "        [ 9,  0,  8,  8,  0,  2,  3,  6,  5,  2,  6,  6,  7,  2,  3,  2,  6,  8,\n",
      "          5,  1],\n",
      "        [ 0,  1,  4,  2, 10,  4,  5,  3, 10,  4,  1,  3, 10,  3,  5,  2,  4, 10,\n",
      "         10, 10],\n",
      "        [ 7,  4, 10,  0,  0,  9,  5,  6,  3,  3,  2,  7,  7,  3,  7,  1,  8,  9,\n",
      "         10,  0]])\n",
      "tensor([10, 10,  8,  0,  0,  0,  0,  9,  4,  9,  0,  5,  9,  0,  2,  9,  1,  5,\n",
      "        10])\n"
     ]
    }
   ],
   "source": [
    "arr = torch.randint(0, 11, size=(20, 20))\n",
    "print(arr)\n",
    "print(arr[torch.arange(19), torch.arange(19) + 1])"
   ]
  },
  {
   "cell_type": "markdown",
   "metadata": {
    "id": "6M1lkfLp1RDJ"
   },
   "source": [
    "1.3.9 Задать два двухмерных тензора `ar1` и `ar2` размерности (5, 10), состоящих из случайных целых чисел в пределах от 0 до 10. Удвоить все значения `ar1`, которые совпадают со значениями `ar2`, расположенными на аналогичных позициях."
   ]
  },
  {
   "cell_type": "code",
   "execution_count": 123,
   "metadata": {},
   "outputs": [
    {
     "name": "stdout",
     "output_type": "stream",
     "text": [
      "tensor([[ 9,  1,  6,  7,  1,  1,  4,  6,  3,  3],\n",
      "        [ 7,  7,  2,  0,  6,  1,  0,  6,  3,  4],\n",
      "        [ 3,  8,  4,  1,  1,  9,  0,  7,  0,  7],\n",
      "        [ 8, 10,  3,  5,  6,  6,  9,  6,  7,  9],\n",
      "        [ 6,  7,  6,  9,  0,  1,  9,  8,  8,  9]])\n",
      "tensor([[ 2,  4,  4,  2,  6,  7,  1,  6,  3,  1],\n",
      "        [ 0,  2,  2,  5,  8,  4,  7,  8,  0,  0],\n",
      "        [ 7,  9,  0,  3, 10,  3, 10, 10,  2,  4],\n",
      "        [10, 10,  5,  1,  4,  7,  0,  5,  9,  3],\n",
      "        [ 7,  2,  5,  7,  5,  1,  2,  1,  5,  2]])\n",
      "tensor([[ 9,  1,  6,  7,  1,  1,  4, 12,  6,  3],\n",
      "        [ 7,  7,  4,  0,  6,  1,  0,  6,  3,  4],\n",
      "        [ 3,  8,  4,  1,  1,  9,  0,  7,  0,  7],\n",
      "        [ 8, 20,  3,  5,  6,  6,  9,  6,  7,  9],\n",
      "        [ 6,  7,  6,  9,  0,  2,  9,  8,  8,  9]])\n"
     ]
    }
   ],
   "source": [
    "arr1 = torch.randint(0, 11, size=(5, 10))\n",
    "arr2 = torch.randint(0, 11, size=(5, 10))\n",
    "print(arr1, arr2, sep=\"\\n\")\n",
    "arr1[arr1 == arr2] *= 2\n",
    "print(arr1)"
   ]
  },
  {
   "cell_type": "markdown",
   "metadata": {
    "id": "Qe2oVr4p1RDJ"
   },
   "source": [
    "1.3.10 Заданы три двухмерных тензора `ar1`, `ar2` и `ar3` размерности (4, 7), состоящие из случайных целых чисел в пределах от 0 до 10. Обнулить все элементы `ar1`, которые больше соответствующих (находящихся в соответствующих позициях) элементов `ar2` и меньше соответствующих элементов `ar3`."
   ]
  },
  {
   "cell_type": "code",
   "execution_count": 127,
   "metadata": {},
   "outputs": [
    {
     "data": {
      "text/plain": [
       "tensor([[ 9,  5,  1,  0, 10,  5, 10],\n",
       "        [10,  2,  2, 10,  4,  1,  0],\n",
       "        [ 0, 10,  2,  0,  3,  7,  5],\n",
       "        [ 6,  0, 10,  9,  8,  8,  8]])"
      ]
     },
     "execution_count": 127,
     "metadata": {},
     "output_type": "execute_result"
    }
   ],
   "source": [
    "ar1 = torch.randint(0, 11, size=(4, 7))\n",
    "ar2 = torch.randint(0, 11, size=(4, 7))\n",
    "ar3 = torch.randint(0, 11, size=(4, 7))\n",
    "\n",
    "ar1[(ar1 > ar2) & (ar1 < ar3)] = 0\n",
    "ar1"
   ]
  },
  {
   "cell_type": "markdown",
   "metadata": {
    "id": "BTcRVeYh1RDK"
   },
   "source": [
    "1.3.11 Задан двумерный тензор `ar1` размерности (20, 5), состоящий из случайных целых чисел в пределах от 0 до 20. Определить, в каких столбцах не менее 5 раз встречается значение, максимальное по своей строке."
   ]
  },
  {
   "cell_type": "code",
   "execution_count": 160,
   "metadata": {},
   "outputs": [
    {
     "name": "stdout",
     "output_type": "stream",
     "text": [
      "tensor([[ 7,  9, 11, 16, 19],\n",
      "        [ 4, 19,  3,  1,  8],\n",
      "        [10,  7,  4, 16,  4],\n",
      "        [16, 10, 12, 13, 20],\n",
      "        [ 3, 12, 17, 19, 18],\n",
      "        [ 3, 19, 17, 15, 16],\n",
      "        [15, 19, 12,  7,  2],\n",
      "        [ 0,  8,  0, 12,  2],\n",
      "        [19,  3, 11, 10, 16],\n",
      "        [ 5,  5,  4, 19, 13],\n",
      "        [ 3,  8,  7, 18, 20],\n",
      "        [ 2, 16, 11,  5,  5],\n",
      "        [16,  7, 11, 11, 11],\n",
      "        [19, 19,  8, 10,  8],\n",
      "        [ 4, 15,  7,  5, 12],\n",
      "        [ 7, 14,  0, 18,  4],\n",
      "        [ 0,  1, 10, 17, 14],\n",
      "        [10, 13, 15, 14, 14],\n",
      "        [ 1,  1,  8,  5,  6],\n",
      "        [ 3, 12,  8,  0,  3]])\n"
     ]
    },
    {
     "data": {
      "text/plain": [
       "tensor([1, 3])"
      ]
     },
     "execution_count": 160,
     "metadata": {},
     "output_type": "execute_result"
    }
   ],
   "source": [
    "ar1 = torch.randint(0, 21, size=(20, 5))\n",
    "print(ar1)\n",
    "cols, = ((ar1.T == ar1.max(axis=1).values).T.sum(axis=0) > 5).nonzero(as_tuple=True)\n",
    "cols"
   ]
  },
  {
   "cell_type": "markdown",
   "metadata": {
    "id": "ZeYlNWNE1RDK"
   },
   "source": [
    "1.3.12 Задан двумерный тензор `ar1` размерности (4, 7), состоящий из случайных  чисел в пределах от 0 до 1. Обнулить все значения в массиве, расположенные строго правее и ниже максимального элемента массива. "
   ]
  },
  {
   "cell_type": "code",
   "execution_count": 176,
   "metadata": {},
   "outputs": [
    {
     "name": "stdout",
     "output_type": "stream",
     "text": [
      "0.9783034324645996\n"
     ]
    },
    {
     "data": {
      "text/plain": [
       "tensor([[0.3575, 0.7567, 0.9247, 0.9783, 0.6261, 0.7349, 0.7959],\n",
       "        [0.6494, 0.1571, 0.7120, 0.0674, 0.0000, 0.0000, 0.0000],\n",
       "        [0.3111, 0.1144, 0.3684, 0.5407, 0.0000, 0.0000, 0.0000],\n",
       "        [0.6489, 0.3426, 0.6289, 0.5549, 0.0000, 0.0000, 0.0000]])"
      ]
     },
     "execution_count": 176,
     "metadata": {},
     "output_type": "execute_result"
    }
   ],
   "source": [
    "ar1 = torch.rand((4, 7))\n",
    "maximum = ar1.max().item()\n",
    "print(maximum)\n",
    "ar1[(ar1 == maximum).nonzero(as_tuple=True)[0][0] + 1:, (ar1 == maximum).nonzero(as_tuple=True)[1][0] + 1:] = 0\n",
    "ar1"
   ]
  },
  {
   "cell_type": "markdown",
   "metadata": {
    "id": "pYxX90B11RDL"
   },
   "source": [
    "1.3.13 Построить \"one-hot encoding\" для одномерного тензора, содержащего целые числа (длина вектора заранее неизвестна, набор значений заранее неизвестен, при этом в итоговой матрице должны присутствовать столбцы для всех натуральных чисел вплоть до максимального встречающегося в исходном массиве).\n",
    "\n",
    "Пример:\n",
    "\n",
    "для тензора `torch.tensor([2, 3, 2, 2, 2, 1])`.\n",
    "\n",
    "Ожидается результат:\n",
    "\n",
    "```python\n",
    "tensor([[0., 1., 0.],\n",
    "        [0., 0., 1.],\n",
    "        [0., 1., 0.],\n",
    "        [0., 1., 0.],\n",
    "        [0., 1., 0.],\n",
    "        [1., 0., 0.]])\n",
    "```"
   ]
  },
  {
   "cell_type": "code",
   "execution_count": 193,
   "metadata": {},
   "outputs": [
    {
     "data": {
      "text/plain": [
       "tensor([[0., 1., 0.],\n",
       "        [0., 0., 1.],\n",
       "        [0., 1., 0.],\n",
       "        [0., 1., 0.],\n",
       "        [0., 1., 0.],\n",
       "        [1., 0., 0.]])"
      ]
     },
     "execution_count": 193,
     "metadata": {},
     "output_type": "execute_result"
    }
   ],
   "source": [
    "vec = torch.tensor([2, 3, 2, 2, 2, 1])\n",
    "encoding = torch.zeros(vec.size()[0], vec.max())\n",
    "encoding[torch.arange(vec.size()[0]), vec-1] = 1\n",
    "encoding"
   ]
  },
  {
   "cell_type": "markdown",
   "metadata": {
    "id": "GYU8DmNTDLN8"
   },
   "source": [
    "1.3.14 Создать тензор `arr` из 20 случайных целых чисел от 0 до 100. Найти самое частое значение в тензоре. \n",
    "Найти индексы в тензоре, соответствующие самому частому значению. Проверить, как работет алгоритм при двух значениях, имеющих наибольшую встречаемость, предложить приемлемое поведение алгоритма для этого случая. "
   ]
  },
  {
   "cell_type": "code",
   "execution_count": null,
   "metadata": {},
   "outputs": [],
   "source": []
  },
  {
   "cell_type": "markdown",
   "metadata": {
    "id": "UenAEfEG1RDN"
   },
   "source": [
    "## 1.4 Математические задачи"
   ]
  },
  {
   "cell_type": "markdown",
   "metadata": {
    "id": "6weDrqJR1RDN"
   },
   "source": [
    "1.4.1 Приблизительно (с погрешностью порядка 1%) рассчитать на какой части интервала от 0 до 10 значение функции x * sin(x) больше 0.5."
   ]
  },
  {
   "cell_type": "code",
   "execution_count": 199,
   "metadata": {},
   "outputs": [
    {
     "data": {
      "text/plain": [
       "tensor(0.5241)"
      ]
     },
     "execution_count": 199,
     "metadata": {},
     "output_type": "execute_result"
    }
   ],
   "source": [
    "n = 10000\n",
    "arr = torch.linspace(0, 10, n)\n",
    "((arr * torch.sin(arr)) > 0.5).sum() / n"
   ]
  },
  {
   "cell_type": "markdown",
   "metadata": {
    "id": "B9xAv8TR1RDN"
   },
   "source": [
    "1.4.2 Найти все простые числа в пределах ста. (Для решения предлагается использовать Решето Эратосфена) Использовать не более 1 цикла (желательно)."
   ]
  },
  {
   "cell_type": "code",
   "execution_count": 203,
   "metadata": {},
   "outputs": [
    {
     "data": {
      "text/plain": [
       "tensor([ 2,  3,  5,  7, 11, 13, 17, 19, 23, 29, 31, 37, 41, 43, 47, 53, 59, 61,\n",
       "        67, 71, 73, 79, 83, 89, 97])"
      ]
     },
     "execution_count": 203,
     "metadata": {},
     "output_type": "execute_result"
    }
   ],
   "source": [
    "arr = torch.arange(2, 101)\n",
    "for item in arr:\n",
    "    arr = arr[(arr % item != 0) | (arr == item)]\n",
    "arr"
   ]
  },
  {
   "cell_type": "markdown",
   "metadata": {
    "id": "AHupFoTR1RDN"
   },
   "source": [
    "1.4.3 Найти евклидово расстояние между двумя одномерными тензорами одинаковой размерности, не используя готовые решения из библиотек."
   ]
  },
  {
   "cell_type": "code",
   "execution_count": 209,
   "metadata": {},
   "outputs": [
    {
     "name": "stdout",
     "output_type": "stream",
     "text": [
      "9\n"
     ]
    }
   ],
   "source": [
    "x = torch.tensor([1, 2, 3, 4, 5, 6, 7, 8, 9])\n",
    "y = torch.tensor([2, 3, 4, 5, 6, 7, 8, 9, 10])\n",
    "\n",
    "print(((x - y) ** 2).sum().item())"
   ]
  },
  {
   "cell_type": "markdown",
   "metadata": {
    "id": "j-ZvjWDKDVMQ"
   },
   "source": [
    "1.4.4 Создать двумерный тензор 20 на 3, содержащий случайные целые числа от 0 до 100. \n",
    "Интерпретируя тензор как 20 векторов из 3х компонент, отсортировать его по длине векторов."
   ]
  },
  {
   "cell_type": "code",
   "execution_count": 214,
   "metadata": {},
   "outputs": [
    {
     "name": "stdout",
     "output_type": "stream",
     "text": [
      "tensor([[21, 11, 26],\n",
      "        [ 8, 52,  5],\n",
      "        [54,  1, 25],\n",
      "        [ 6, 24, 63],\n",
      "        [28, 53, 33],\n",
      "        [42, 56, 18],\n",
      "        [ 5, 59, 54],\n",
      "        [22, 67, 43],\n",
      "        [65,  5, 53],\n",
      "        [23, 54, 70],\n",
      "        [86, 50,  5],\n",
      "        [55, 11, 87],\n",
      "        [69, 34, 74],\n",
      "        [77,  4, 75],\n",
      "        [54, 81, 52],\n",
      "        [11, 66, 94],\n",
      "        [67, 87, 48],\n",
      "        [73, 95, 28],\n",
      "        [46, 88, 96],\n",
      "        [84, 97, 79]])\n"
     ]
    }
   ],
   "source": [
    "arr = torch.randint(0, 101, size=(20, 3))\n",
    "print(arr[(arr ** 2).sum(axis=1).sort().indices])"
   ]
  },
  {
   "cell_type": "markdown",
   "metadata": {
    "id": "IkBRFTKa1RDO"
   },
   "source": [
    "1.4.5 Найти \"локальные максимумы\" в одномерном тензоре (т.е. значения, большие предыдущего и последующего) `torch.tensor([1, 3, 7, 1, 2, 6, 0, 1])` и вывести их индексы."
   ]
  },
  {
   "cell_type": "code",
   "execution_count": 230,
   "metadata": {},
   "outputs": [
    {
     "name": "stdout",
     "output_type": "stream",
     "text": [
      "tensor([3, 6])\n"
     ]
    }
   ],
   "source": [
    "vec = torch.tensor([1, 3, 7, 10, 2, 6, 10, 1])\n",
    "a = torch.diff(vec)[:-1]\n",
    "b = torch.diff(vec.flip(0)).flip(0)[1:]\n",
    "print(((a > 0) & (b > 0)).nonzero(as_tuple=True)[0] + 1)"
   ]
  },
  {
   "cell_type": "markdown",
   "metadata": {
    "id": "VXD58rlc1RDP"
   },
   "source": [
    "1.4.6 Задан произвольный массив numpy (например массив из 100 случайных числе от 0 до 1). Необходимо найти в нем число наиболее близкое к заданному."
   ]
  },
  {
   "cell_type": "code",
   "execution_count": 242,
   "metadata": {},
   "outputs": [
    {
     "name": "stdout",
     "output_type": "stream",
     "text": [
      "tensor([0.7934, 0.1889, 0.4502, 0.4723, 0.3527, 0.2417, 0.0479, 0.5679, 0.0425,\n",
      "        0.5478, 0.4527, 0.9053, 0.7300, 0.4853, 0.5044, 0.1675, 0.0890, 0.9053,\n",
      "        0.3847, 0.9624, 0.2184, 0.0475, 0.9860, 0.9900, 0.2224, 0.0169, 0.5025,\n",
      "        0.9207, 0.9051, 0.9101, 0.4790, 0.4676, 0.0768, 0.9528, 0.2475, 0.1631,\n",
      "        0.4286, 0.8695, 0.0940, 0.2982, 0.6589, 0.9281, 0.6764, 0.8689, 0.5876,\n",
      "        0.5259, 0.1492, 0.7398, 0.2130, 0.7943, 0.6000, 0.2000, 0.6209, 0.3474,\n",
      "        0.6487, 0.2801, 0.1322, 0.8910, 0.3588, 0.3911, 0.3203, 0.6891, 0.1070,\n",
      "        0.4283, 0.3633, 0.4890, 0.4982, 0.7883, 0.4756, 0.5195, 0.5464, 0.4540,\n",
      "        0.4645, 0.1024, 0.6193, 0.6308, 0.6110, 0.6985, 0.3525, 0.5887, 0.4940,\n",
      "        0.4634, 0.3180, 0.3802, 0.1063, 0.5552, 0.2812, 0.7348, 0.6491, 0.5152,\n",
      "        0.8370, 0.8704, 0.5204, 0.5386, 0.6163, 0.9861, 0.9668, 0.3637, 0.3128,\n",
      "        0.5027])\n",
      "49\n"
     ]
    }
   ],
   "source": [
    "arr = torch.rand(100)\n",
    "print(arr)\n",
    "float_input = float(input())\n",
    "print((arr - float_input).abs().sort().indices[0].item())"
   ]
  },
  {
   "cell_type": "markdown",
   "metadata": {
    "id": "81F_B2ij1RDP"
   },
   "source": [
    "1.4.7 Решить матричное уравнение `A*X*B=-C` - найти матрицу X. Где `A = [[-1, 2, 4], [-3, 1, 2], [-3, 0, 1]]`, `B=[[3, -1], [2, 1]]`, `C=[[7, 21], [11, 8], [8, 4]]`."
   ]
  },
  {
   "cell_type": "code",
   "execution_count": 250,
   "metadata": {},
   "outputs": [
    {
     "name": "stdout",
     "output_type": "stream",
     "text": [
      "tensor([[-1., -0.],\n",
      "        [ 2., -1.],\n",
      "        [-3.,  4.]])\n"
     ]
    }
   ],
   "source": [
    "A = torch.tensor([[-1., 2, 4], [-3, 1, 2], [-3, 0, 1]])\n",
    "B = torch.tensor([[3., -1], [2, 1]])\n",
    "C = torch.tensor([[7., 21], [11, 8], [8, 4]])\n",
    "\n",
    "print((torch.inverse(A) @ C @ torch.inverse(B)).round())"
   ]
  },
  {
   "cell_type": "markdown",
   "metadata": {
    "id": "1P7O19bj1RDP"
   },
   "source": [
    "1.4.8 Проверить, является ли система векторов a1 = (3; −3; 0; 7),\n",
    "a2 = (2; 2; 4; 7), a3 = (1; 2; 3; 4), a4 = (5; −4; 1; 3) линейно зависимой?"
   ]
  },
  {
   "cell_type": "code",
   "execution_count": 257,
   "metadata": {},
   "outputs": [
    {
     "data": {
      "text/plain": [
       "tensor(0.)"
      ]
     },
     "execution_count": 257,
     "metadata": {},
     "output_type": "execute_result"
    }
   ],
   "source": [
    "vec_system = torch.tensor([[3., -3, 0, 7], [2, 2, 4, 7], [1, 2, 3, 4], [5, -4, 1, 3]])\n",
    "vec_system.det().round()"
   ]
  },
  {
   "cell_type": "markdown",
   "metadata": {
    "id": "Jg_bzMVS1RDQ"
   },
   "source": [
    "1.4.9 Сгенирировать тензор из 200 случайных целых чисел, нормально распрделенных cо стандартным отклонением $\\sigma = 10$ и матожиданием $\\mu = 0$. Построить тензор гистограммы с 20 бинами. "
   ]
  },
  {
   "cell_type": "code",
   "execution_count": null,
   "metadata": {},
   "outputs": [],
   "source": []
  }
 ],
 "metadata": {
  "colab": {
   "name": "01_tensor_v1_blank.ipynb",
   "provenance": [],
   "toc_visible": true
  },
  "kernelspec": {
   "display_name": "Python 3.8.5 ('base')",
   "language": "python",
   "name": "python3"
  },
  "language_info": {
   "codemirror_mode": {
    "name": "ipython",
    "version": 3
   },
   "file_extension": ".py",
   "mimetype": "text/x-python",
   "name": "python",
   "nbconvert_exporter": "python",
   "pygments_lexer": "ipython3",
   "version": "3.8.5"
  },
  "vscode": {
   "interpreter": {
    "hash": "ad2bdc8ecc057115af97d19610ffacc2b4e99fae6737bb82f5d7fb13d2f2c186"
   }
  }
 },
 "nbformat": 4,
 "nbformat_minor": 1
}
