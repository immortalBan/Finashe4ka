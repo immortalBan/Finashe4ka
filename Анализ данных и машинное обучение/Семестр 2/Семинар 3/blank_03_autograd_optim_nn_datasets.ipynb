{
  "cells": [
    {
      "cell_type": "code",
      "execution_count": null,
      "metadata": {
        "id": "6ktSXdQVb9Li"
      },
      "outputs": [],
      "source": [
        "import torch\n",
        "import numpy as np"
      ]
    },
    {
      "cell_type": "markdown",
      "metadata": {
        "id": "4L7Inb1JbiDy"
      },
      "source": [
        "## 3.1 Автоматическое дифференцирование в `torch`"
      ]
    },
    {
      "cell_type": "markdown",
      "metadata": {
        "id": "HsZ69HZ0EsI7"
      },
      "source": [
        "3.1.1 Воспользовавшись классами `Neuron` и `SquaredLoss` из задачи 2.4.1 и автоматическим дифференцированием, которое предоставляет `torch`, решить задачу регрессии. Для оптимизации использовать стохастический градиетный спуск."
      ]
    },
    {
      "cell_type": "code",
      "execution_count": null,
      "metadata": {
        "id": "zynPAaOrRKTm"
      },
      "outputs": [],
      "source": [
        "from sklearn.datasets import make_regression\n",
        "\n",
        "X, y, coef = make_regression(n_features=4, n_informative=4, coef=True, bias=0.5)\n",
        "X = torch.from_numpy(X).to(dtype=torch.float32)\n",
        "y = torch.from_numpy(y).to(dtype=torch.float32)"
      ]
    },
    {
      "cell_type": "code",
      "execution_count": null,
      "metadata": {
        "id": "POB7FdK5JHPw"
      },
      "outputs": [],
      "source": [
        "class Neuron:\n",
        "    def __init__(self, n_inputs):\n",
        "        # <создать атрибуты объекта weights и bias>\n",
        "        # Создаем случайные веса и смещение нужных размерностей\n",
        "        self.W = torch.randn(n_inputs)\n",
        "        self.B = torch.randn(1)    \n",
        "  \n",
        "    def forward(self, inputs):\n",
        "        self.inputs = inputs\n",
        "        return torch.matmul(inputs, self.W.T) + self.B\n",
        "      \n",
        "    def backward(self, dvalue):\n",
        "         \n",
        "        self.dweights = dvalue * self.inputs\n",
        "        self.dinput =  dvalue * self.W\n",
        "        self.dbias = dvalue \n",
        "        \n",
        "        # Возвращаем градиент весов и смещения\n",
        "        return self.dweights, self.dbias\n",
        "\n",
        "class SquaredLoss:\n",
        "  def forward(self, y_pred, y_true):\n",
        "    self.y_pred = torch.tensor(y_pred, requires_grad=True)\n",
        "    y_true = torch.tensor(y_true)\n",
        "    z = (self.y_pred - y_true) ** 2\n",
        "    self.z = z\n",
        "    return z\n",
        "\n",
        "  def backward(self):\n",
        "    self.z.backward()\n",
        "    self.dinput = self.y_pred.grad\n"
      ]
    },
    {
      "cell_type": "code",
      "execution_count": null,
      "metadata": {
        "colab": {
          "base_uri": "https://localhost:8080/"
        },
        "id": "hNvhB639JHPy",
        "outputId": "aef6fdfe-d65f-4e1a-d7fd-75fb98e4c5c8"
      },
      "outputs": [
        {
          "name": "stderr",
          "output_type": "stream",
          "text": [
            "/usr/local/lib/python3.7/dist-packages/ipykernel_launcher.py:10: UserWarning: The use of `x.T` on tensors of dimension other than 2 to reverse their shape is deprecated and it will throw an error in a future release. Consider `x.mT` to transpose batches of matricesor `x.permute(*torch.arange(x.ndim - 1, -1, -1))` to reverse the dimensions of a tensor. (Triggered internally at  ../aten/src/ATen/native/TensorShape.cpp:2981.)\n",
            "  # Remove the CWD from sys.path while we load stuff.\n",
            "/usr/local/lib/python3.7/dist-packages/ipykernel_launcher.py:23: UserWarning: To copy construct from a tensor, it is recommended to use sourceTensor.clone().detach() or sourceTensor.clone().detach().requires_grad_(True), rather than torch.tensor(sourceTensor).\n",
            "/usr/local/lib/python3.7/dist-packages/ipykernel_launcher.py:24: UserWarning: To copy construct from a tensor, it is recommended to use sourceTensor.clone().detach() or sourceTensor.clone().detach().requires_grad_(True), rather than torch.tensor(sourceTensor).\n"
          ]
        },
        {
          "name": "stdout",
          "output_type": "stream",
          "text": [
            "Epoch 0 loss: tensor([11974.2051], grad_fn=<PowBackward0>)\n",
            "Epoch 1 loss: tensor([2608.8486], grad_fn=<PowBackward0>)\n",
            "Epoch 2 loss: tensor([4992.9136], grad_fn=<PowBackward0>)\n",
            "Epoch 3 loss: tensor([7.9374], grad_fn=<PowBackward0>)\n",
            "Epoch 4 loss: tensor([662.3904], grad_fn=<PowBackward0>)\n",
            "Epoch 5 loss: tensor([640.8123], grad_fn=<PowBackward0>)\n",
            "Epoch 6 loss: tensor([170.5280], grad_fn=<PowBackward0>)\n",
            "Epoch 7 loss: tensor([0.6339], grad_fn=<PowBackward0>)\n",
            "Epoch 8 loss: tensor([218.5606], grad_fn=<PowBackward0>)\n",
            "Epoch 9 loss: tensor([39.9030], grad_fn=<PowBackward0>)\n",
            "Epoch 10 loss: tensor([64.1313], grad_fn=<PowBackward0>)\n",
            "Epoch 11 loss: tensor([1.9663], grad_fn=<PowBackward0>)\n",
            "Epoch 12 loss: tensor([23.0864], grad_fn=<PowBackward0>)\n",
            "Epoch 13 loss: tensor([0.4170], grad_fn=<PowBackward0>)\n",
            "Epoch 14 loss: tensor([0.4293], grad_fn=<PowBackward0>)\n",
            "Epoch 15 loss: tensor([6.1182], grad_fn=<PowBackward0>)\n",
            "Epoch 16 loss: tensor([0.2745], grad_fn=<PowBackward0>)\n",
            "Epoch 17 loss: tensor([0.0016], grad_fn=<PowBackward0>)\n",
            "Epoch 18 loss: tensor([0.2150], grad_fn=<PowBackward0>)\n",
            "Epoch 19 loss: tensor([0.0287], grad_fn=<PowBackward0>)\n",
            "Epoch 20 loss: tensor([0.1527], grad_fn=<PowBackward0>)\n",
            "Epoch 21 loss: tensor([0.1105], grad_fn=<PowBackward0>)\n",
            "Epoch 22 loss: tensor([0.4526], grad_fn=<PowBackward0>)\n",
            "Epoch 23 loss: tensor([0.0616], grad_fn=<PowBackward0>)\n",
            "Epoch 24 loss: tensor([0.4451], grad_fn=<PowBackward0>)\n",
            "Epoch 25 loss: tensor([0.0655], grad_fn=<PowBackward0>)\n",
            "Epoch 26 loss: tensor([0.0193], grad_fn=<PowBackward0>)\n",
            "Epoch 27 loss: tensor([0.0061], grad_fn=<PowBackward0>)\n",
            "Epoch 28 loss: tensor([0.0069], grad_fn=<PowBackward0>)\n",
            "Epoch 29 loss: tensor([0.0002], grad_fn=<PowBackward0>)\n",
            "Epoch 30 loss: tensor([0.0141], grad_fn=<PowBackward0>)\n",
            "Epoch 31 loss: tensor([0.0065], grad_fn=<PowBackward0>)\n",
            "Epoch 32 loss: tensor([0.0034], grad_fn=<PowBackward0>)\n",
            "Epoch 33 loss: tensor([0.0013], grad_fn=<PowBackward0>)\n",
            "Epoch 34 loss: tensor([0.0018], grad_fn=<PowBackward0>)\n",
            "Epoch 35 loss: tensor([0.0003], grad_fn=<PowBackward0>)\n",
            "Epoch 36 loss: tensor([7.6846e-05], grad_fn=<PowBackward0>)\n",
            "Epoch 37 loss: tensor([0.0008], grad_fn=<PowBackward0>)\n",
            "Epoch 38 loss: tensor([9.8371e-09], grad_fn=<PowBackward0>)\n",
            "Epoch 39 loss: tensor([0.0001], grad_fn=<PowBackward0>)\n",
            "Epoch 40 loss: tensor([0.0003], grad_fn=<PowBackward0>)\n",
            "Epoch 41 loss: tensor([0.0002], grad_fn=<PowBackward0>)\n",
            "Epoch 42 loss: tensor([7.1718e-05], grad_fn=<PowBackward0>)\n",
            "Epoch 43 loss: tensor([5.1344e-06], grad_fn=<PowBackward0>)\n",
            "Epoch 44 loss: tensor([2.0573e-06], grad_fn=<PowBackward0>)\n",
            "Epoch 45 loss: tensor([2.0650e-05], grad_fn=<PowBackward0>)\n",
            "Epoch 46 loss: tensor([2.8772e-05], grad_fn=<PowBackward0>)\n",
            "Epoch 47 loss: tensor([1.5166e-05], grad_fn=<PowBackward0>)\n",
            "Epoch 48 loss: tensor([3.4089e-06], grad_fn=<PowBackward0>)\n",
            "Epoch 49 loss: tensor([1.3626e-06], grad_fn=<PowBackward0>)\n",
            "Epoch 50 loss: tensor([1.8443e-06], grad_fn=<PowBackward0>)\n",
            "Epoch 51 loss: tensor([4.7148e-07], grad_fn=<PowBackward0>)\n",
            "Epoch 52 loss: tensor([2.2016e-07], grad_fn=<PowBackward0>)\n",
            "Epoch 53 loss: tensor([3.0109e-07], grad_fn=<PowBackward0>)\n",
            "Epoch 54 loss: tensor([1.0296e-06], grad_fn=<PowBackward0>)\n",
            "Epoch 55 loss: tensor([1.1269e-07], grad_fn=<PowBackward0>)\n",
            "Epoch 56 loss: tensor([6.2957e-07], grad_fn=<PowBackward0>)\n",
            "Epoch 57 loss: tensor([7.5437e-08], grad_fn=<PowBackward0>)\n",
            "Epoch 58 loss: tensor([4.5635e-08], grad_fn=<PowBackward0>)\n",
            "Epoch 59 loss: tensor([1.1409e-08], grad_fn=<PowBackward0>)\n",
            "Epoch 60 loss: tensor([5.4148e-08], grad_fn=<PowBackward0>)\n",
            "Epoch 61 loss: tensor([1.4334e-07], grad_fn=<PowBackward0>)\n",
            "Epoch 62 loss: tensor([4.2433e-08], grad_fn=<PowBackward0>)\n",
            "Epoch 63 loss: tensor([2.8522e-09], grad_fn=<PowBackward0>)\n",
            "Epoch 64 loss: tensor([4.1439e-09], grad_fn=<PowBackward0>)\n",
            "Epoch 65 loss: tensor([1.1409e-08], grad_fn=<PowBackward0>)\n",
            "Epoch 66 loss: tensor([1.3097e-08], grad_fn=<PowBackward0>)\n",
            "Epoch 67 loss: tensor([9.3132e-10], grad_fn=<PowBackward0>)\n",
            "Epoch 68 loss: tensor([4.7148e-09], grad_fn=<PowBackward0>)\n",
            "Epoch 69 loss: tensor([5.2387e-10], grad_fn=<PowBackward0>)\n",
            "Epoch 70 loss: tensor([2.0955e-09], grad_fn=<PowBackward0>)\n",
            "Epoch 71 loss: tensor([2.3283e-10], grad_fn=<PowBackward0>)\n",
            "Epoch 72 loss: tensor([1.1787e-09], grad_fn=<PowBackward0>)\n",
            "Epoch 73 loss: tensor([9.3132e-10], grad_fn=<PowBackward0>)\n",
            "Epoch 74 loss: tensor([0.], grad_fn=<PowBackward0>)\n",
            "Epoch 75 loss: tensor([2.3283e-10], grad_fn=<PowBackward0>)\n",
            "Epoch 76 loss: tensor([5.8208e-11], grad_fn=<PowBackward0>)\n",
            "Epoch 77 loss: tensor([5.2387e-10], grad_fn=<PowBackward0>)\n",
            "Epoch 78 loss: tensor([4.4565e-11], grad_fn=<PowBackward0>)\n",
            "Epoch 79 loss: tensor([1.4552e-11], grad_fn=<PowBackward0>)\n",
            "Epoch 80 loss: tensor([2.3283e-10], grad_fn=<PowBackward0>)\n",
            "Epoch 81 loss: tensor([2.3283e-10], grad_fn=<PowBackward0>)\n",
            "Epoch 82 loss: tensor([1.4552e-09], grad_fn=<PowBackward0>)\n",
            "Epoch 83 loss: tensor([7.3669e-11], grad_fn=<PowBackward0>)\n",
            "Epoch 84 loss: tensor([4.4020e-10], grad_fn=<PowBackward0>)\n",
            "Epoch 85 loss: tensor([0.], grad_fn=<PowBackward0>)\n",
            "Epoch 86 loss: tensor([0.], grad_fn=<PowBackward0>)\n",
            "Epoch 87 loss: tensor([7.1304e-10], grad_fn=<PowBackward0>)\n",
            "Epoch 88 loss: tensor([2.9468e-10], grad_fn=<PowBackward0>)\n",
            "Epoch 89 loss: tensor([7.1304e-10], grad_fn=<PowBackward0>)\n",
            "Epoch 90 loss: tensor([7.1304e-10], grad_fn=<PowBackward0>)\n",
            "Epoch 91 loss: tensor([0.], grad_fn=<PowBackward0>)\n",
            "Epoch 92 loss: tensor([1.8417e-09], grad_fn=<PowBackward0>)\n",
            "Epoch 93 loss: tensor([2.3283e-10], grad_fn=<PowBackward0>)\n",
            "Epoch 94 loss: tensor([2.3283e-10], grad_fn=<PowBackward0>)\n",
            "Epoch 95 loss: tensor([9.3132e-10], grad_fn=<PowBackward0>)\n",
            "Epoch 96 loss: tensor([5.2387e-10], grad_fn=<PowBackward0>)\n",
            "Epoch 97 loss: tensor([5.8208e-11], grad_fn=<PowBackward0>)\n",
            "Epoch 98 loss: tensor([5.8208e-11], grad_fn=<PowBackward0>)\n",
            "Epoch 99 loss: tensor([2.3283e-10], grad_fn=<PowBackward0>)\n"
          ]
        }
      ],
      "source": [
        "n_inputs = 4# <размерность элемента выборки >\n",
        "learning_rate = 0.01 #  скорость обучения\n",
        "n_epoch = 100 #  количество эпох\n",
        "batch_size = 10\n",
        "\n",
        "neuron = Neuron(n_inputs)\n",
        "loss = SquaredLoss()\n",
        "\n",
        "losses = []\n",
        "for epoch in range(100):\n",
        "  sample = torch.randint(0, X.shape[0], size=(batch_size,))\n",
        "  for x_example, y_example in zip(X[sample], y[sample]):\n",
        "    # forward pass\n",
        "    y_pred = neuron.forward(x_example)\n",
        "    curr_loss = loss.forward(y_pred, y_example)\n",
        "    losses.append(curr_loss)\n",
        "\n",
        "    # backward pass\n",
        "    loss.backward()\n",
        "    dweights, dbias = neuron.backward(loss.dinput)\n",
        "\n",
        "    # update weights\n",
        "    neuron.W -= learning_rate * dweights\n",
        "    neuron.B -= learning_rate * dbias\n",
        "  print(f\"Epoch {epoch} loss: {curr_loss}\")"
      ]
    },
    {
      "cell_type": "markdown",
      "metadata": {
        "id": "wxWeyJw5lAqU"
      },
      "source": [
        "3.1.2 Воспользовавшись классами `Linear` и `MSELoss` из задачи 2.1.4 и 2.3.1, `ReLU` из 2.2.1 и автоматическим дифференцированием, которое предоставляет `torch`, решить задачу регрессии. Для оптимизации использовать пакетный градиентный спуск. Вывести график функции потерь в зависимости от номера эпохи. Вывести на одном графике исходные данные и предсказанные значения."
      ]
    },
    {
      "cell_type": "code",
      "execution_count": null,
      "metadata": {
        "id": "bnlAt1NEQoat"
      },
      "outputs": [],
      "source": [
        "X = torch.FloatTensor(torch.linspace(0, 1, 100).view(-1, 1))\n",
        "y = torch.sin(2 * np.pi * X) + 0.1 * torch.rand(X.size()) \n",
        "\n",
        "class ReLU:\n",
        "    def forward(self, inputs):\n",
        "        inputs[inputs < 0] = 0\n",
        "        return inputs\n",
        "    \n",
        "class MSELoss:\n",
        "  def forward(self, y_pred, y_true):\n",
        "    self.y_pred = torch.tensor(y_pred, requires_grad=True)\n",
        "    y_true = torch.tensor(y_true)\n",
        "    z = ((self.y_pred - y_true) ** 2).mean()\n",
        "    self.z = z\n",
        "    return z\n",
        "\n",
        "  def backward(self):\n",
        "    self.z.backward()\n",
        "    self.dinput = self.y_pred.grad\n",
        "\n",
        "class Linear:\n",
        "    def __init__(self, n_features, n_neurons):\n",
        "        self.weights = torch.randn(n_features, n_neurons)\n",
        "        self.biases = torch.randn(n_neurons)\n",
        "    \n",
        "    def forward(self, inputs):\n",
        "        self.inputs = inputs\n",
        "        return torch.matmul(inputs, self.weights) + self.biases\n",
        "    \n",
        "    def backward(self, dvalues):\n",
        "        self.dweights = torch.matmul(self.inputs.T, dvalues)\n",
        "        self.dbiases = torch.sum(dvalues, axis=0)\n",
        "        self.dinputs = torch.matmul(dvalues, self.weights.T)\n",
        "        return self.dweights, self.dbiases\n",
        "\n"
      ]
    },
    {
      "cell_type": "code",
      "execution_count": null,
      "metadata": {
        "colab": {
          "base_uri": "https://localhost:8080/"
        },
        "id": "24ZeSDTxJHP0",
        "outputId": "47050713-907c-4d79-e3f1-6bc5867ba171"
      },
      "outputs": [
        {
          "name": "stdout",
          "output_type": "stream",
          "text": [
            "Epoch 0 loss: 2.3058769702911377\n",
            "Epoch 1 loss: 2.2186713218688965\n",
            "Epoch 2 loss: 2.135784387588501\n",
            "Epoch 3 loss: 2.056999921798706\n",
            "Epoch 4 loss: 1.9821122884750366\n",
            "Epoch 5 loss: 1.9109264612197876\n",
            "Epoch 6 loss: 1.843258023262024\n",
            "Epoch 7 loss: 1.7789300680160522\n",
            "Epoch 8 loss: 1.7177757024765015\n",
            "Epoch 9 loss: 1.6596364974975586\n",
            "Epoch 10 loss: 1.604360818862915\n",
            "Epoch 11 loss: 1.5518062114715576\n",
            "Epoch 12 loss: 1.5018359422683716\n",
            "Epoch 13 loss: 1.454321265220642\n",
            "Epoch 14 loss: 1.409138798713684\n",
            "Epoch 15 loss: 1.3661723136901855\n",
            "Epoch 16 loss: 1.3253109455108643\n",
            "Epoch 17 loss: 1.2864493131637573\n",
            "Epoch 18 loss: 1.2494869232177734\n",
            "Epoch 19 loss: 1.214329481124878\n",
            "Epoch 20 loss: 1.1808863878250122\n",
            "Epoch 21 loss: 1.1490720510482788\n",
            "Epoch 22 loss: 1.1188048124313354\n",
            "Epoch 23 loss: 1.0900077819824219\n",
            "Epoch 24 loss: 1.0626070499420166\n",
            "Epoch 25 loss: 1.0365328788757324\n",
            "Epoch 26 loss: 1.0117191076278687\n",
            "Epoch 27 loss: 0.9881026744842529\n",
            "Epoch 28 loss: 0.9656236171722412\n",
            "Epoch 29 loss: 0.9442253112792969\n",
            "Epoch 30 loss: 0.9238536357879639\n",
            "Epoch 31 loss: 0.9044572710990906\n",
            "Epoch 32 loss: 0.8859875202178955\n",
            "Epoch 33 loss: 0.8683981895446777\n",
            "Epoch 34 loss: 0.8516452312469482\n",
            "Epoch 35 loss: 0.8356870412826538\n",
            "Epoch 36 loss: 0.8204836249351501\n",
            "Epoch 37 loss: 0.8059974908828735\n",
            "Epoch 38 loss: 0.7921929359436035\n",
            "Epoch 39 loss: 0.7790358066558838\n",
            "Epoch 40 loss: 0.7664938569068909\n",
            "Epoch 41 loss: 0.7545362710952759\n",
            "Epoch 42 loss: 0.743134081363678\n",
            "Epoch 43 loss: 0.7322595715522766\n",
            "Epoch 44 loss: 0.7218862771987915\n",
            "Epoch 45 loss: 0.7119894623756409\n",
            "Epoch 46 loss: 0.7025451064109802\n",
            "Epoch 47 loss: 0.6935308575630188\n",
            "Epoch 48 loss: 0.6849252581596375\n",
            "Epoch 49 loss: 0.676707923412323\n",
            "Epoch 50 loss: 0.6688595414161682\n",
            "Epoch 51 loss: 0.6613617539405823\n",
            "Epoch 52 loss: 0.6541971564292908\n",
            "Epoch 53 loss: 0.6473489999771118\n",
            "Epoch 54 loss: 0.6408018469810486\n",
            "Epoch 55 loss: 0.6345404982566833\n",
            "Epoch 56 loss: 0.6285508871078491\n",
            "Epoch 57 loss: 0.6228193044662476\n",
            "Epoch 58 loss: 0.6173332929611206\n",
            "Epoch 59 loss: 0.6120803952217102\n",
            "Epoch 60 loss: 0.6070491671562195\n",
            "Epoch 61 loss: 0.6022285223007202\n",
            "Epoch 62 loss: 0.597608208656311\n",
            "Epoch 63 loss: 0.5931780338287354\n",
            "Epoch 64 loss: 0.5889288187026978\n",
            "Epoch 65 loss: 0.5848515033721924\n",
            "Epoch 66 loss: 0.5809376239776611\n",
            "Epoch 67 loss: 0.5771791338920593\n",
            "Epoch 68 loss: 0.5735682845115662\n",
            "Epoch 69 loss: 0.570097804069519\n",
            "Epoch 70 loss: 0.5667608380317688\n",
            "Epoch 71 loss: 0.5635507106781006\n",
            "Epoch 72 loss: 0.5604612827301025\n",
            "Epoch 73 loss: 0.5574865937232971\n",
            "Epoch 74 loss: 0.5546209216117859\n",
            "Epoch 75 loss: 0.5518590211868286\n",
            "Epoch 76 loss: 0.5491957664489746\n",
            "Epoch 77 loss: 0.5466263294219971\n",
            "Epoch 78 loss: 0.5441460609436035\n",
            "Epoch 79 loss: 0.5417506694793701\n",
            "Epoch 80 loss: 0.539435863494873\n",
            "Epoch 81 loss: 0.5371979475021362\n",
            "Epoch 82 loss: 0.5350330471992493\n",
            "Epoch 83 loss: 0.5329377055168152\n",
            "Epoch 84 loss: 0.5309083461761475\n",
            "Epoch 85 loss: 0.5289419293403625\n",
            "Epoch 86 loss: 0.5270353555679321\n",
            "Epoch 87 loss: 0.525185763835907\n",
            "Epoch 88 loss: 0.5233903527259827\n",
            "Epoch 89 loss: 0.5216465592384338\n",
            "Epoch 90 loss: 0.5199518203735352\n",
            "Epoch 91 loss: 0.5183039307594299\n",
            "Epoch 92 loss: 0.5167005062103271\n",
            "Epoch 93 loss: 0.5151394605636597\n",
            "Epoch 94 loss: 0.5136188268661499\n",
            "Epoch 95 loss: 0.5121366381645203\n",
            "Epoch 96 loss: 0.5106910467147827\n",
            "Epoch 97 loss: 0.5092804431915283\n",
            "Epoch 98 loss: 0.507902979850769\n",
            "Epoch 99 loss: 0.5065572261810303\n"
          ]
        },
        {
          "name": "stderr",
          "output_type": "stream",
          "text": [
            "/usr/local/lib/python3.7/dist-packages/ipykernel_launcher.py:11: UserWarning: To copy construct from a tensor, it is recommended to use sourceTensor.clone().detach() or sourceTensor.clone().detach().requires_grad_(True), rather than torch.tensor(sourceTensor).\n",
            "  # This is added back by InteractiveShellApp.init_path()\n",
            "/usr/local/lib/python3.7/dist-packages/ipykernel_launcher.py:12: UserWarning: To copy construct from a tensor, it is recommended to use sourceTensor.clone().detach() or sourceTensor.clone().detach().requires_grad_(True), rather than torch.tensor(sourceTensor).\n",
            "  if sys.path[0] == '':\n"
          ]
        }
      ],
      "source": [
        "n_inputs = 1# <размерность элемента выборки >\n",
        "learning_rate = 0.01 #  скорость обучения\n",
        "n_epoch = 100 #  количество эпох\n",
        "\n",
        "neuron = Linear(1, 1)\n",
        "loss = MSELoss()\n",
        "activation = ReLU()\n",
        "\n",
        "losses = []\n",
        "for epoch in range(n_epoch):\n",
        "    y_pred = activation.forward(neuron.forward(X))\n",
        "\n",
        "    curr_loss = loss.forward(y_pred, y)\n",
        "    #print(loss.z)\n",
        "    losses.append(curr_loss)\n",
        "\n",
        "    # backward pass\n",
        "    loss.backward()\n",
        "    dweights, dbias = neuron.backward(loss.dinput)\n",
        "    #print(loss.dinput)\n",
        "\n",
        "    # update weights\n",
        "    neuron.weights -= learning_rate * dweights\n",
        "    neuron.biases -= learning_rate * dbias\n",
        "    print(f\"Epoch {epoch} loss: {curr_loss}\")"
      ]
    },
    {
      "cell_type": "markdown",
      "metadata": {
        "id": "nifm0FVB2y5N"
      },
      "source": [
        "## 3.2 Алгоритмы оптимизации в `torch.optim`"
      ]
    },
    {
      "cell_type": "code",
      "execution_count": null,
      "metadata": {
        "id": "u5PTTYou3xx8"
      },
      "outputs": [],
      "source": [
        "import torch.optim as optim"
      ]
    },
    {
      "cell_type": "markdown",
      "metadata": {
        "id": "0oBFfJpmcwfn"
      },
      "source": [
        "3.2.1 Решить задачу 3.1.1, воспользовавшись оптимизатором `optim.SDG` для применения стохастического градиентого спуска"
      ]
    },
    {
      "cell_type": "code",
      "execution_count": null,
      "metadata": {
        "id": "hFaBW1I2Bb8f"
      },
      "outputs": [],
      "source": [
        "X, y, coef = make_regression(n_features=4, n_informative=4, coef=True, bias=0.5)\n",
        "X = torch.from_numpy(X).to(dtype=torch.float32)\n",
        "y = torch.from_numpy(y).to(dtype=torch.float32)"
      ]
    },
    {
      "cell_type": "code",
      "execution_count": null,
      "metadata": {
        "id": "EPYOnmIaPU_4"
      },
      "outputs": [],
      "source": [
        "class Neuron:\n",
        "    def __init__(self, n_inputs):\n",
        "        # <создать атрибуты объекта weights и bias>\n",
        "        # Создаем случайные веса и смещение нужных размерностей\n",
        "        self.W = torch.nn.Parameter(torch.randn(1, n_inputs, requires_grad=True))\n",
        "        self.B = torch.nn.Parameter(torch.randn(1, requires_grad=True))\n",
        "      \n",
        "    def parameters(self):\n",
        "        yield self.W\n",
        "        yield self.B\n",
        "  \n",
        "    def forward(self, inputs):\n",
        "        self.inputs = inputs\n",
        "        return torch.matmul(inputs, self.W.T) + self.B\n",
        "      \n",
        "    def backward(self, dvalue):\n",
        "        with torch.no_grad():\n",
        "         \n",
        "          self.dweights = dvalue * self.inputs\n",
        "          self.dinput =  dvalue * self.W\n",
        "          self.dbias = dvalue \n",
        "        \n",
        "        # Возвращаем градиент весов и смещения\n",
        "        return self.dweights, self.dbias\n",
        "\n",
        "class SquaredLoss:\n",
        "  def forward(self, y_pred, y_true):\n",
        "    self.y_pred = y_pred\n",
        "    self.y_true = y_true\n",
        "    self.loss = (y_pred - y_true)**2\n",
        "    return self.loss\n",
        "\n",
        "  def backward(self):\n",
        "    y_pred = torch.autograd.Variable(self.y_pred, requires_grad=True)\n",
        "    y_true = torch.autograd.Variable(self.y_true, requires_grad=False)\n",
        "    ((y_pred - y_true)**2).backward()\n",
        "    self.dinput = y_pred.grad"
      ]
    },
    {
      "cell_type": "code",
      "execution_count": null,
      "metadata": {
        "colab": {
          "base_uri": "https://localhost:8080/"
        },
        "id": "UPfBGzyQBjN1",
        "outputId": "b901fe16-31c6-4f35-ba38-79be7816e1a0"
      },
      "outputs": [
        {
          "name": "stdout",
          "output_type": "stream",
          "text": [
            "Epoch 0 loss: tensor([3755.0574], grad_fn=<PowBackward0>)\n",
            "Epoch 1 loss: tensor([2450.0933], grad_fn=<PowBackward0>)\n",
            "Epoch 2 loss: tensor([1586.8700], grad_fn=<PowBackward0>)\n",
            "Epoch 3 loss: tensor([1019.0901], grad_fn=<PowBackward0>)\n",
            "Epoch 4 loss: tensor([648.0484], grad_fn=<PowBackward0>)\n",
            "Epoch 5 loss: tensor([407.3742], grad_fn=<PowBackward0>)\n",
            "Epoch 6 loss: tensor([252.6056], grad_fn=<PowBackward0>)\n",
            "Epoch 7 loss: tensor([154.0840], grad_fn=<PowBackward0>)\n",
            "Epoch 8 loss: tensor([92.1203], grad_fn=<PowBackward0>)\n",
            "Epoch 9 loss: tensor([53.7130], grad_fn=<PowBackward0>)\n",
            "Epoch 10 loss: tensor([30.3312], grad_fn=<PowBackward0>)\n",
            "Epoch 11 loss: tensor([16.4172], grad_fn=<PowBackward0>)\n",
            "Epoch 12 loss: tensor([8.3811], grad_fn=<PowBackward0>)\n",
            "Epoch 13 loss: tensor([3.9262], grad_fn=<PowBackward0>)\n",
            "Epoch 14 loss: tensor([1.6014], grad_fn=<PowBackward0>)\n",
            "Epoch 15 loss: tensor([0.5034], grad_fn=<PowBackward0>)\n",
            "Epoch 16 loss: tensor([0.0799], grad_fn=<PowBackward0>)\n",
            "Epoch 17 loss: tensor([0.0016], grad_fn=<PowBackward0>)\n",
            "Epoch 18 loss: tensor([0.0784], grad_fn=<PowBackward0>)\n",
            "Epoch 19 loss: tensor([0.2057], grad_fn=<PowBackward0>)\n",
            "Epoch 20 loss: tensor([0.3301], grad_fn=<PowBackward0>)\n",
            "Epoch 21 loss: tensor([0.4284], grad_fn=<PowBackward0>)\n",
            "Epoch 22 loss: tensor([0.4931], grad_fn=<PowBackward0>)\n",
            "Epoch 23 loss: tensor([0.5258], grad_fn=<PowBackward0>)\n",
            "Epoch 24 loss: tensor([0.5317], grad_fn=<PowBackward0>)\n",
            "Epoch 25 loss: tensor([0.5171], grad_fn=<PowBackward0>)\n",
            "Epoch 26 loss: tensor([0.4882], grad_fn=<PowBackward0>)\n",
            "Epoch 27 loss: tensor([0.4501], grad_fn=<PowBackward0>)\n",
            "Epoch 28 loss: tensor([0.4072], grad_fn=<PowBackward0>)\n",
            "Epoch 29 loss: tensor([0.3627], grad_fn=<PowBackward0>)\n",
            "Epoch 30 loss: tensor([0.3189], grad_fn=<PowBackward0>)\n",
            "Epoch 31 loss: tensor([0.2773], grad_fn=<PowBackward0>)\n",
            "Epoch 32 loss: tensor([0.2388], grad_fn=<PowBackward0>)\n",
            "Epoch 33 loss: tensor([0.2041], grad_fn=<PowBackward0>)\n",
            "Epoch 34 loss: tensor([0.1732], grad_fn=<PowBackward0>)\n",
            "Epoch 35 loss: tensor([0.1460], grad_fn=<PowBackward0>)\n",
            "Epoch 36 loss: tensor([0.1224], grad_fn=<PowBackward0>)\n",
            "Epoch 37 loss: tensor([0.1021], grad_fn=<PowBackward0>)\n",
            "Epoch 38 loss: tensor([0.0848], grad_fn=<PowBackward0>)\n",
            "Epoch 39 loss: tensor([0.0702], grad_fn=<PowBackward0>)\n",
            "Epoch 40 loss: tensor([0.0579], grad_fn=<PowBackward0>)\n",
            "Epoch 41 loss: tensor([0.0476], grad_fn=<PowBackward0>)\n",
            "Epoch 42 loss: tensor([0.0390], grad_fn=<PowBackward0>)\n",
            "Epoch 43 loss: tensor([0.0318], grad_fn=<PowBackward0>)\n",
            "Epoch 44 loss: tensor([0.0260], grad_fn=<PowBackward0>)\n",
            "Epoch 45 loss: tensor([0.0211], grad_fn=<PowBackward0>)\n",
            "Epoch 46 loss: tensor([0.0172], grad_fn=<PowBackward0>)\n",
            "Epoch 47 loss: tensor([0.0139], grad_fn=<PowBackward0>)\n",
            "Epoch 48 loss: tensor([0.0112], grad_fn=<PowBackward0>)\n",
            "Epoch 49 loss: tensor([0.0091], grad_fn=<PowBackward0>)\n",
            "Epoch 50 loss: tensor([0.0073], grad_fn=<PowBackward0>)\n",
            "Epoch 51 loss: tensor([0.0059], grad_fn=<PowBackward0>)\n",
            "Epoch 52 loss: tensor([0.0048], grad_fn=<PowBackward0>)\n",
            "Epoch 53 loss: tensor([0.0038], grad_fn=<PowBackward0>)\n",
            "Epoch 54 loss: tensor([0.0031], grad_fn=<PowBackward0>)\n",
            "Epoch 55 loss: tensor([0.0025], grad_fn=<PowBackward0>)\n",
            "Epoch 56 loss: tensor([0.0020], grad_fn=<PowBackward0>)\n",
            "Epoch 57 loss: tensor([0.0016], grad_fn=<PowBackward0>)\n",
            "Epoch 58 loss: tensor([0.0013], grad_fn=<PowBackward0>)\n",
            "Epoch 59 loss: tensor([0.0010], grad_fn=<PowBackward0>)\n",
            "Epoch 60 loss: tensor([0.0008], grad_fn=<PowBackward0>)\n",
            "Epoch 61 loss: tensor([0.0006], grad_fn=<PowBackward0>)\n",
            "Epoch 62 loss: tensor([0.0005], grad_fn=<PowBackward0>)\n",
            "Epoch 63 loss: tensor([0.0004], grad_fn=<PowBackward0>)\n",
            "Epoch 64 loss: tensor([0.0003], grad_fn=<PowBackward0>)\n",
            "Epoch 65 loss: tensor([0.0003], grad_fn=<PowBackward0>)\n",
            "Epoch 66 loss: tensor([0.0002], grad_fn=<PowBackward0>)\n",
            "Epoch 67 loss: tensor([0.0002], grad_fn=<PowBackward0>)\n",
            "Epoch 68 loss: tensor([0.0001], grad_fn=<PowBackward0>)\n",
            "Epoch 69 loss: tensor([0.0001], grad_fn=<PowBackward0>)\n",
            "Epoch 70 loss: tensor([8.2013e-05], grad_fn=<PowBackward0>)\n",
            "Epoch 71 loss: tensor([6.5156e-05], grad_fn=<PowBackward0>)\n",
            "Epoch 72 loss: tensor([5.1761e-05], grad_fn=<PowBackward0>)\n",
            "Epoch 73 loss: tensor([4.1267e-05], grad_fn=<PowBackward0>)\n",
            "Epoch 74 loss: tensor([3.3004e-05], grad_fn=<PowBackward0>)\n",
            "Epoch 75 loss: tensor([2.6129e-05], grad_fn=<PowBackward0>)\n",
            "Epoch 76 loss: tensor([2.0676e-05], grad_fn=<PowBackward0>)\n",
            "Epoch 77 loss: tensor([1.6227e-05], grad_fn=<PowBackward0>)\n",
            "Epoch 78 loss: tensor([1.2640e-05], grad_fn=<PowBackward0>)\n",
            "Epoch 79 loss: tensor([9.8804e-06], grad_fn=<PowBackward0>)\n",
            "Epoch 80 loss: tensor([7.9686e-06], grad_fn=<PowBackward0>)\n",
            "Epoch 81 loss: tensor([6.3773e-06], grad_fn=<PowBackward0>)\n",
            "Epoch 82 loss: tensor([5.0312e-06], grad_fn=<PowBackward0>)\n",
            "Epoch 83 loss: tensor([4.0876e-06], grad_fn=<PowBackward0>)\n",
            "Epoch 84 loss: tensor([3.2419e-06], grad_fn=<PowBackward0>)\n",
            "Epoch 85 loss: tensor([2.5670e-06], grad_fn=<PowBackward0>)\n",
            "Epoch 86 loss: tensor([2.0138e-06], grad_fn=<PowBackward0>)\n",
            "Epoch 87 loss: tensor([1.6625e-06], grad_fn=<PowBackward0>)\n",
            "Epoch 88 loss: tensor([1.3448e-06], grad_fn=<PowBackward0>)\n",
            "Epoch 89 loss: tensor([1.1085e-06], grad_fn=<PowBackward0>)\n",
            "Epoch 90 loss: tensor([8.6636e-07], grad_fn=<PowBackward0>)\n",
            "Epoch 91 loss: tensor([7.1718e-07], grad_fn=<PowBackward0>)\n",
            "Epoch 92 loss: tensor([5.8208e-07], grad_fn=<PowBackward0>)\n",
            "Epoch 93 loss: tensor([4.8202e-07], grad_fn=<PowBackward0>)\n",
            "Epoch 94 loss: tensor([3.8190e-07], grad_fn=<PowBackward0>)\n",
            "Epoch 95 loss: tensor([3.1875e-07], grad_fn=<PowBackward0>)\n",
            "Epoch 96 loss: tensor([2.6915e-07], grad_fn=<PowBackward0>)\n",
            "Epoch 97 loss: tensor([2.2375e-07], grad_fn=<PowBackward0>)\n",
            "Epoch 98 loss: tensor([1.9581e-07], grad_fn=<PowBackward0>)\n",
            "Epoch 99 loss: tensor([1.7608e-07], grad_fn=<PowBackward0>)\n"
          ]
        }
      ],
      "source": [
        "n_inputs = 4# <размерность элемента выборки >\n",
        "learning_rate = 0.001 #  скорость обучения\n",
        "n_epoch = 100 #  количество эпох\n",
        "batch_size = 10\n",
        "\n",
        "neuron = Neuron(n_inputs)\n",
        "optimizer = optim.SGD(neuron.parameters(), lr=learning_rate)\n",
        "# print(optimizer.param_groups)\n",
        "loss = SquaredLoss()\n",
        "\n",
        "losses = []\n",
        "for epoch in range(100):\n",
        "  for x_example, y_example in zip(X, y):\n",
        "      optimizer.zero_grad()\n",
        "      # forward pass\n",
        "      y_pred = neuron.forward(x_example)\n",
        "      curr_loss = loss.forward(y_pred, y_example)\n",
        "      losses.append(curr_loss)\n",
        "\n",
        "      # backward pass\n",
        "      optimizer = torch.optim.SGD(neuron.parameters(), learning_rate)\n",
        "      optimizer.zero_grad()\n",
        "      loss.forward(y_pred, y_example).backward()\n",
        "      optimizer.step()\n",
        "      \n",
        "  print(f\"Epoch {epoch} loss: {curr_loss}\")\n",
        "  # print(optimizer.param_groups)"
      ]
    },
    {
      "cell_type": "markdown",
      "metadata": {
        "id": "1LFAacdy46bX"
      },
      "source": [
        "3.2.2 Решить задачу 3.1.2, воспользовавшись оптимизатором `optim.Adam` для применения пакетного градиентого спуска. Вывести график функции потерь в зависимости от номера эпохи. Вывести на одном графике исходные данные и предсказанные значения."
      ]
    },
    {
      "cell_type": "code",
      "execution_count": null,
      "metadata": {
        "id": "OFqvks3QaWXc"
      },
      "outputs": [],
      "source": [
        "X = torch.FloatTensor(torch.linspace(0, 1, 100).view(-1, 1))\n",
        "y = torch.sin(2 * np.pi * X) + 0.1 * torch.rand(X.size()) \n",
        "\n",
        "class ReLU:\n",
        "    def forward(self, inputs):\n",
        "        inputs[inputs < 0] = 0\n",
        "        return inputs\n",
        "    \n",
        "class MSELoss:\n",
        "  def forward(self, y_pred, y_true):\n",
        "    self.loss = ((y_pred - y_true)**2).mean()\n",
        "    return self.loss\n",
        "\n",
        "  def backward(self, y_pred, y_true):\n",
        "    y_pred = torch.autograd.Variable(y_pred, requires_grad=True)\n",
        "    y_true = torch.autograd.Variable(y_true, requires_grad=False)\n",
        "    (((y_pred - y_true)**2).mean()).backward()\n",
        "    self.dinput = y_pred.grad\n",
        "\n",
        "class Linear:\n",
        "    def __init__(self, n_features, n_neurons):\n",
        "        self.weights = torch.nn.Parameter(torch.randn(n_features, n_neurons), requires_grad=True) \n",
        "        self.biases = torch.nn.Parameter(torch.randn(n_neurons), requires_grad=True)\n",
        "      \n",
        "    def parameters(self):\n",
        "        yield self.weights\n",
        "        yield self.biases\n",
        "    \n",
        "    def forward(self, inputs):\n",
        "        self.inputs = inputs\n",
        "        return torch.matmul(inputs, self.weights) + self.biases\n",
        "    \n",
        "    def backward(self, dvalues):\n",
        "        self.dweights = torch.matmul(self.inputs.T, dvalues)\n",
        "        self.dbiases = torch.sum(dvalues, axis=0)\n",
        "        self.dinputs = torch.matmul(dvalues, self.weights.T)\n",
        "        return self.dweights, self.dbiases\n"
      ]
    },
    {
      "cell_type": "code",
      "execution_count": null,
      "metadata": {
        "colab": {
          "base_uri": "https://localhost:8080/"
        },
        "id": "WMFidb6hb9jf",
        "outputId": "e8212be1-0a2f-4344-f512-25a4c420f118"
      },
      "outputs": [
        {
          "name": "stdout",
          "output_type": "stream",
          "text": [
            "Epoch 0 loss: 3.853825092315674\n",
            "Epoch 1 loss: 2.687979221343994\n",
            "Epoch 2 loss: 2.047274351119995\n",
            "Epoch 3 loss: 1.435421109199524\n",
            "Epoch 4 loss: 0.9206600785255432\n",
            "Epoch 5 loss: 0.623136579990387\n",
            "Epoch 6 loss: 0.4487867057323456\n",
            "Epoch 7 loss: 0.30159956216812134\n",
            "Epoch 8 loss: 0.22068829834461212\n",
            "Epoch 9 loss: 0.24662992358207703\n",
            "Epoch 10 loss: 0.31665369868278503\n",
            "Epoch 11 loss: 0.3635810613632202\n",
            "Epoch 12 loss: 0.405632883310318\n",
            "Epoch 13 loss: 0.46548396348953247\n",
            "Epoch 14 loss: 0.5106430649757385\n",
            "Epoch 15 loss: 0.5102164149284363\n",
            "Epoch 16 loss: 0.48280999064445496\n",
            "Epoch 17 loss: 0.4548150897026062\n",
            "Epoch 18 loss: 0.41997599601745605\n",
            "Epoch 19 loss: 0.36499008536338806\n",
            "Epoch 20 loss: 0.30253639817237854\n",
            "Epoch 21 loss: 0.2535729706287384\n",
            "Epoch 22 loss: 0.21824230253696442\n",
            "Epoch 23 loss: 0.18506751954555511\n",
            "Epoch 24 loss: 0.15666666626930237\n",
            "Epoch 25 loss: 0.14437809586524963\n",
            "Epoch 26 loss: 0.14595775306224823\n",
            "Epoch 27 loss: 0.1492205262184143\n",
            "Epoch 28 loss: 0.15192651748657227\n",
            "Epoch 29 loss: 0.159931942820549\n",
            "Epoch 30 loss: 0.17078781127929688\n",
            "Epoch 31 loss: 0.1756683737039566\n",
            "Epoch 32 loss: 0.17406083643436432\n",
            "Epoch 33 loss: 0.17152398824691772\n",
            "Epoch 34 loss: 0.16745102405548096\n",
            "Epoch 35 loss: 0.1578129529953003\n",
            "Epoch 36 loss: 0.1449623852968216\n",
            "Epoch 37 loss: 0.13404612243175507\n",
            "Epoch 38 loss: 0.12464217096567154\n",
            "Epoch 39 loss: 0.11449912935495377\n",
            "Epoch 40 loss: 0.10617878288030624\n",
            "Epoch 41 loss: 0.10206901282072067\n",
            "Epoch 42 loss: 0.09994851797819138\n",
            "Epoch 43 loss: 0.09798001497983932\n",
            "Epoch 44 loss: 0.09768802672624588\n",
            "Epoch 45 loss: 0.0990406796336174\n",
            "Epoch 46 loss: 0.09950225800275803\n",
            "Epoch 47 loss: 0.09861242026090622\n",
            "Epoch 48 loss: 0.09771591424942017\n",
            "Epoch 49 loss: 0.0961819663643837\n",
            "Epoch 50 loss: 0.09299414604902267\n",
            "Epoch 51 loss: 0.08927703648805618\n",
            "Epoch 52 loss: 0.08597046136856079\n",
            "Epoch 53 loss: 0.0824289545416832\n",
            "Epoch 54 loss: 0.07879974693059921\n",
            "Epoch 55 loss: 0.07613794505596161\n",
            "Epoch 56 loss: 0.07423416525125504\n",
            "Epoch 57 loss: 0.07246016710996628\n",
            "Epoch 58 loss: 0.07122599333524704\n",
            "Epoch 59 loss: 0.07061000168323517\n",
            "Epoch 60 loss: 0.06986896693706512\n",
            "Epoch 61 loss: 0.06893069297075272\n",
            "Epoch 62 loss: 0.0680956095457077\n",
            "Epoch 63 loss: 0.0669863149523735\n",
            "Epoch 64 loss: 0.06544238328933716\n",
            "Epoch 65 loss: 0.06389401853084564\n",
            "Epoch 66 loss: 0.06235615164041519\n",
            "Epoch 67 loss: 0.060673218220472336\n",
            "Epoch 68 loss: 0.059139471501111984\n",
            "Epoch 69 loss: 0.057882100343704224\n",
            "Epoch 70 loss: 0.05669253692030907\n",
            "Epoch 71 loss: 0.055666401982307434\n",
            "Epoch 72 loss: 0.054883189499378204\n",
            "Epoch 73 loss: 0.054151665419340134\n",
            "Epoch 74 loss: 0.05340093746781349\n",
            "Epoch 75 loss: 0.052716419100761414\n",
            "Epoch 76 loss: 0.0519651398062706\n",
            "Epoch 77 loss: 0.05111498758196831\n",
            "Epoch 78 loss: 0.05027981102466583\n",
            "Epoch 79 loss: 0.04942288249731064\n",
            "Epoch 80 loss: 0.04852728545665741\n",
            "Epoch 81 loss: 0.04769621789455414\n",
            "Epoch 82 loss: 0.04692363739013672\n",
            "Epoch 83 loss: 0.04617016017436981\n",
            "Epoch 84 loss: 0.04549536854028702\n",
            "Epoch 85 loss: 0.04487958550453186\n",
            "Epoch 86 loss: 0.04426753520965576\n",
            "Epoch 87 loss: 0.04368637129664421\n",
            "Epoch 88 loss: 0.043126340955495834\n",
            "Epoch 89 loss: 0.042537566274404526\n",
            "Epoch 90 loss: 0.04194645956158638\n",
            "Epoch 91 loss: 0.04135334864258766\n",
            "Epoch 92 loss: 0.04073987156152725\n",
            "Epoch 93 loss: 0.0401410236954689\n",
            "Epoch 94 loss: 0.03956076130270958\n",
            "Epoch 95 loss: 0.038988254964351654\n",
            "Epoch 96 loss: 0.03844407573342323\n",
            "Epoch 97 loss: 0.03792709857225418\n",
            "Epoch 98 loss: 0.037420693784952164\n",
            "Epoch 99 loss: 0.036925945430994034\n",
            "Epoch 100 loss: 0.036436423659324646\n",
            "Epoch 101 loss: 0.0359453409910202\n",
            "Epoch 102 loss: 0.035461802035570145\n",
            "Epoch 103 loss: 0.03498140722513199\n",
            "Epoch 104 loss: 0.034501709043979645\n",
            "Epoch 105 loss: 0.034033890813589096\n",
            "Epoch 106 loss: 0.033573176711797714\n",
            "Epoch 107 loss: 0.033118270337581635\n",
            "Epoch 108 loss: 0.03267529606819153\n",
            "Epoch 109 loss: 0.03224192187190056\n",
            "Epoch 110 loss: 0.0318182148039341\n",
            "Epoch 111 loss: 0.031404998153448105\n",
            "Epoch 112 loss: 0.030997037887573242\n",
            "Epoch 113 loss: 0.03059486113488674\n",
            "Epoch 114 loss: 0.03019878640770912\n",
            "Epoch 115 loss: 0.029803719371557236\n",
            "Epoch 116 loss: 0.029406972229480743\n",
            "Epoch 117 loss: 0.029018767178058624\n",
            "Epoch 118 loss: 0.028636466711759567\n",
            "Epoch 119 loss: 0.028262196108698845\n",
            "Epoch 120 loss: 0.027895623818039894\n",
            "Epoch 121 loss: 0.027535727247595787\n",
            "Epoch 122 loss: 0.02718438394367695\n",
            "Epoch 123 loss: 0.026836872100830078\n",
            "Epoch 124 loss: 0.026492252945899963\n",
            "Epoch 125 loss: 0.026154775172472\n",
            "Epoch 126 loss: 0.02582169510424137\n",
            "Epoch 127 loss: 0.025494122877717018\n",
            "Epoch 128 loss: 0.02517174743115902\n",
            "Epoch 129 loss: 0.0248553529381752\n",
            "Epoch 130 loss: 0.024545378983020782\n",
            "Epoch 131 loss: 0.024240411818027496\n",
            "Epoch 132 loss: 0.023938840255141258\n",
            "Epoch 133 loss: 0.02364290878176689\n",
            "Epoch 134 loss: 0.023351898416876793\n",
            "Epoch 135 loss: 0.02306598238646984\n",
            "Epoch 136 loss: 0.022785291075706482\n",
            "Epoch 137 loss: 0.022509312257170677\n",
            "Epoch 138 loss: 0.02223803475499153\n",
            "Epoch 139 loss: 0.021971320733428\n",
            "Epoch 140 loss: 0.02170654572546482\n",
            "Epoch 141 loss: 0.02144470438361168\n",
            "Epoch 142 loss: 0.02118699997663498\n",
            "Epoch 143 loss: 0.020933635532855988\n",
            "Epoch 144 loss: 0.020684469491243362\n",
            "Epoch 145 loss: 0.02043992280960083\n",
            "Epoch 146 loss: 0.020200883969664574\n",
            "Epoch 147 loss: 0.019966261461377144\n",
            "Epoch 148 loss: 0.019735507667064667\n",
            "Epoch 149 loss: 0.019508475437760353\n",
            "Epoch 150 loss: 0.01928536780178547\n",
            "Epoch 151 loss: 0.01906617358326912\n",
            "Epoch 152 loss: 0.018850916996598244\n",
            "Epoch 153 loss: 0.01863969676196575\n",
            "Epoch 154 loss: 0.01843213476240635\n",
            "Epoch 155 loss: 0.018228178843855858\n",
            "Epoch 156 loss: 0.01802811771631241\n",
            "Epoch 157 loss: 0.017831698060035706\n",
            "Epoch 158 loss: 0.0176383163779974\n",
            "Epoch 159 loss: 0.01744760200381279\n",
            "Epoch 160 loss: 0.0172592680901289\n",
            "Epoch 161 loss: 0.01707359403371811\n",
            "Epoch 162 loss: 0.016891248524188995\n",
            "Epoch 163 loss: 0.01671217940747738\n",
            "Epoch 164 loss: 0.016536084935069084\n",
            "Epoch 165 loss: 0.016362804919481277\n",
            "Epoch 166 loss: 0.016192352399230003\n",
            "Epoch 167 loss: 0.016024895012378693\n",
            "Epoch 168 loss: 0.015861062332987785\n",
            "Epoch 169 loss: 0.015698334202170372\n",
            "Epoch 170 loss: 0.015537327155470848\n",
            "Epoch 171 loss: 0.015378701500594616\n",
            "Epoch 172 loss: 0.015222660265862942\n",
            "Epoch 173 loss: 0.015069173648953438\n",
            "Epoch 174 loss: 0.014918088912963867\n",
            "Epoch 175 loss: 0.01476945262402296\n",
            "Epoch 176 loss: 0.014623412862420082\n",
            "Epoch 177 loss: 0.014479621313512325\n",
            "Epoch 178 loss: 0.014338100329041481\n",
            "Epoch 179 loss: 0.014198734425008297\n",
            "Epoch 180 loss: 0.014061503112316132\n",
            "Epoch 181 loss: 0.013926664367318153\n",
            "Epoch 182 loss: 0.013793956488370895\n",
            "Epoch 183 loss: 0.013663332909345627\n",
            "Epoch 184 loss: 0.013534693978726864\n",
            "Epoch 185 loss: 0.013408027589321136\n",
            "Epoch 186 loss: 0.013283337466418743\n",
            "Epoch 187 loss: 0.013160510919988155\n",
            "Epoch 188 loss: 0.013039733283221722\n",
            "Epoch 189 loss: 0.012920696288347244\n",
            "Epoch 190 loss: 0.012803375720977783\n",
            "Epoch 191 loss: 0.012687805108726025\n",
            "Epoch 192 loss: 0.012573923915624619\n",
            "Epoch 193 loss: 0.01246168464422226\n",
            "Epoch 194 loss: 0.012350830249488354\n",
            "Epoch 195 loss: 0.012240422889590263\n",
            "Epoch 196 loss: 0.012132303789258003\n",
            "Epoch 197 loss: 0.012025631964206696\n",
            "Epoch 198 loss: 0.011920477263629436\n",
            "Epoch 199 loss: 0.011816972866654396\n",
            "Epoch 200 loss: 0.01171496044844389\n",
            "Epoch 201 loss: 0.011614393442869186\n",
            "Epoch 202 loss: 0.011514456011354923\n",
            "Epoch 203 loss: 0.01141575537621975\n",
            "Epoch 204 loss: 0.011318388395011425\n",
            "Epoch 205 loss: 0.0112222358584404\n",
            "Epoch 206 loss: 0.011127360165119171\n",
            "Epoch 207 loss: 0.011033701710402966\n",
            "Epoch 208 loss: 0.010941330343484879\n",
            "Epoch 209 loss: 0.0108502097427845\n",
            "Epoch 210 loss: 0.010760359466075897\n",
            "Epoch 211 loss: 0.010671336203813553\n",
            "Epoch 212 loss: 0.01058283168822527\n",
            "Epoch 213 loss: 0.010495465248823166\n",
            "Epoch 214 loss: 0.010409217327833176\n",
            "Epoch 215 loss: 0.01032413449138403\n",
            "Epoch 216 loss: 0.010240178555250168\n",
            "Epoch 217 loss: 0.010157505050301552\n",
            "Epoch 218 loss: 0.01007593609392643\n",
            "Epoch 219 loss: 0.009995630010962486\n",
            "Epoch 220 loss: 0.009916417300701141\n",
            "Epoch 221 loss: 0.009838256053626537\n",
            "Epoch 222 loss: 0.009761352092027664\n",
            "Epoch 223 loss: 0.009685641154646873\n",
            "Epoch 224 loss: 0.009611159563064575\n",
            "Epoch 225 loss: 0.009537754580378532\n",
            "Epoch 226 loss: 0.009465334005653858\n",
            "Epoch 227 loss: 0.009393956512212753\n",
            "Epoch 228 loss: 0.009323513135313988\n",
            "Epoch 229 loss: 0.00925404205918312\n",
            "Epoch 230 loss: 0.009185553528368473\n",
            "Epoch 231 loss: 0.00911903940141201\n",
            "Epoch 232 loss: 0.009053466841578484\n",
            "Epoch 233 loss: 0.008988825604319572\n",
            "Epoch 234 loss: 0.008925068192183971\n",
            "Epoch 235 loss: 0.008862322196364403\n",
            "Epoch 236 loss: 0.008800450712442398\n",
            "Epoch 237 loss: 0.008739439770579338\n",
            "Epoch 238 loss: 0.008679290302097797\n",
            "Epoch 239 loss: 0.008619935251772404\n",
            "Epoch 240 loss: 0.008561388589441776\n",
            "Epoch 241 loss: 0.00850365124642849\n",
            "Epoch 242 loss: 0.008446700870990753\n",
            "Epoch 243 loss: 0.008390494622290134\n",
            "Epoch 244 loss: 0.00833501573652029\n",
            "Epoch 245 loss: 0.008280291222035885\n",
            "Epoch 246 loss: 0.008226267993450165\n",
            "Epoch 247 loss: 0.008172986097633839\n",
            "Epoch 248 loss: 0.008120423182845116\n",
            "Epoch 249 loss: 0.00806823093444109\n",
            "Epoch 250 loss: 0.008016148582100868\n",
            "Epoch 251 loss: 0.007964689284563065\n",
            "Epoch 252 loss: 0.007913769222795963\n",
            "Epoch 253 loss: 0.007863479666411877\n",
            "Epoch 254 loss: 0.007813706994056702\n",
            "Epoch 255 loss: 0.007764516398310661\n",
            "Epoch 256 loss: 0.007715897168964148\n",
            "Epoch 257 loss: 0.007667842321097851\n",
            "Epoch 258 loss: 0.00762021541595459\n",
            "Epoch 259 loss: 0.007573144044727087\n",
            "Epoch 260 loss: 0.007526590023189783\n",
            "Epoch 261 loss: 0.007480562198907137\n",
            "Epoch 262 loss: 0.007435011211782694\n",
            "Epoch 263 loss: 0.007389992941170931\n",
            "Epoch 264 loss: 0.007345470599830151\n",
            "Epoch 265 loss: 0.007301435340195894\n",
            "Epoch 266 loss: 0.007257887627929449\n",
            "Epoch 267 loss: 0.007214823272079229\n",
            "Epoch 268 loss: 0.007172245532274246\n",
            "Epoch 269 loss: 0.00713009899482131\n",
            "Epoch 270 loss: 0.007088437210768461\n",
            "Epoch 271 loss: 0.007047230377793312\n",
            "Epoch 272 loss: 0.007006447296589613\n",
            "Epoch 273 loss: 0.006966174114495516\n",
            "Epoch 274 loss: 0.006926270201802254\n",
            "Epoch 275 loss: 0.006886848248541355\n",
            "Epoch 276 loss: 0.006847839802503586\n",
            "Epoch 277 loss: 0.006809172686189413\n",
            "Epoch 278 loss: 0.006770830601453781\n",
            "Epoch 279 loss: 0.006732895504683256\n",
            "Epoch 280 loss: 0.006695365998893976\n",
            "Epoch 281 loss: 0.006658208556473255\n",
            "Epoch 282 loss: 0.006621465086936951\n",
            "Epoch 283 loss: 0.006585250608623028\n",
            "Epoch 284 loss: 0.006549494806677103\n",
            "Epoch 285 loss: 0.006514105945825577\n",
            "Epoch 286 loss: 0.006479123141616583\n",
            "Epoch 287 loss: 0.006444479804486036\n",
            "Epoch 288 loss: 0.006410213652998209\n",
            "Epoch 289 loss: 0.006376342847943306\n",
            "Epoch 290 loss: 0.006342841312289238\n",
            "Epoch 291 loss: 0.0063097719103097916\n",
            "Epoch 292 loss: 0.006277031730860472\n",
            "Epoch 293 loss: 0.006244632415473461\n",
            "Epoch 294 loss: 0.006212540436536074\n",
            "Epoch 295 loss: 0.006181005388498306\n",
            "Epoch 296 loss: 0.006149909924715757\n",
            "Epoch 297 loss: 0.0061191231943666935\n",
            "Epoch 298 loss: 0.0060886200517416\n",
            "Epoch 299 loss: 0.006058441940695047\n",
            "Epoch 300 loss: 0.006028677802532911\n",
            "Epoch 301 loss: 0.005999238695949316\n",
            "Epoch 302 loss: 0.005970111582428217\n",
            "Epoch 303 loss: 0.005941150244325399\n",
            "Epoch 304 loss: 0.005912438500672579\n",
            "Epoch 305 loss: 0.005883896257728338\n",
            "Epoch 306 loss: 0.005855055525898933\n",
            "Epoch 307 loss: 0.005826456006616354\n",
            "Epoch 308 loss: 0.0057980273850262165\n",
            "Epoch 309 loss: 0.005769840907305479\n",
            "Epoch 310 loss: 0.005741860717535019\n",
            "Epoch 311 loss: 0.005714120343327522\n",
            "Epoch 312 loss: 0.005686638411134481\n",
            "Epoch 313 loss: 0.005659403279423714\n",
            "Epoch 314 loss: 0.005632415879517794\n",
            "Epoch 315 loss: 0.005605682265013456\n",
            "Epoch 316 loss: 0.005579206161201\n",
            "Epoch 317 loss: 0.005552986171096563\n",
            "Epoch 318 loss: 0.005527069792151451\n",
            "Epoch 319 loss: 0.005501396022737026\n",
            "Epoch 320 loss: 0.005475983489304781\n",
            "Epoch 321 loss: 0.005450837779790163\n",
            "Epoch 322 loss: 0.005425929557532072\n",
            "Epoch 323 loss: 0.005401309113949537\n",
            "Epoch 324 loss: 0.0053769429214298725\n",
            "Epoch 325 loss: 0.005352818872779608\n",
            "Epoch 326 loss: 0.00532895140349865\n",
            "Epoch 327 loss: 0.005305349826812744\n",
            "Epoch 328 loss: 0.005281990859657526\n",
            "Epoch 329 loss: 0.005258862394839525\n",
            "Epoch 330 loss: 0.005235993303358555\n",
            "Epoch 331 loss: 0.005213363561779261\n",
            "Epoch 332 loss: 0.005190998315811157\n",
            "Epoch 333 loss: 0.005168915260583162\n",
            "Epoch 334 loss: 0.005147151183336973\n",
            "Epoch 335 loss: 0.0051256506703794\n",
            "Epoch 336 loss: 0.005104368552565575\n",
            "Epoch 337 loss: 0.00508329551666975\n",
            "Epoch 338 loss: 0.005062475334852934\n",
            "Epoch 339 loss: 0.005041844677180052\n",
            "Epoch 340 loss: 0.005021487362682819\n",
            "Epoch 341 loss: 0.0050013381987810135\n",
            "Epoch 342 loss: 0.004981408827006817\n",
            "Epoch 343 loss: 0.004961675498634577\n",
            "Epoch 344 loss: 0.004942193161696196\n",
            "Epoch 345 loss: 0.004922911524772644\n",
            "Epoch 346 loss: 0.004903826396912336\n",
            "Epoch 347 loss: 0.004884929396212101\n",
            "Epoch 348 loss: 0.00486623914912343\n",
            "Epoch 349 loss: 0.004847724922001362\n",
            "Epoch 350 loss: 0.004829398822039366\n",
            "Epoch 351 loss: 0.004811244085431099\n",
            "Epoch 352 loss: 0.004793272819370031\n",
            "Epoch 353 loss: 0.004775471985340118\n",
            "Epoch 354 loss: 0.004757855087518692\n",
            "Epoch 355 loss: 0.004740423988550901\n",
            "Epoch 356 loss: 0.004723127465695143\n",
            "Epoch 357 loss: 0.004706006497144699\n",
            "Epoch 358 loss: 0.004689051769673824\n",
            "Epoch 359 loss: 0.004672232083976269\n",
            "Epoch 360 loss: 0.004655599594116211\n",
            "Epoch 361 loss: 0.004639127757400274\n",
            "Epoch 362 loss: 0.004622771870344877\n",
            "Epoch 363 loss: 0.004606479313224554\n",
            "Epoch 364 loss: 0.004590257536619902\n",
            "Epoch 365 loss: 0.004574143793433905\n",
            "Epoch 366 loss: 0.004558132495731115\n",
            "Epoch 367 loss: 0.0045422520488500595\n",
            "Epoch 368 loss: 0.0045265089720487595\n",
            "Epoch 369 loss: 0.004510852042585611\n",
            "Epoch 370 loss: 0.0044953119941055775\n",
            "Epoch 371 loss: 0.004479875788092613\n",
            "Epoch 372 loss: 0.004464456345885992\n",
            "Epoch 373 loss: 0.004449041560292244\n",
            "Epoch 374 loss: 0.004433711990714073\n",
            "Epoch 375 loss: 0.004418460186570883\n",
            "Epoch 376 loss: 0.004403304774314165\n",
            "Epoch 377 loss: 0.004388242494314909\n",
            "Epoch 378 loss: 0.004373268689960241\n",
            "Epoch 379 loss: 0.004358408506959677\n",
            "Epoch 380 loss: 0.004343581385910511\n",
            "Epoch 381 loss: 0.004328765440732241\n",
            "Epoch 382 loss: 0.004314038436859846\n",
            "Epoch 383 loss: 0.0042993901297450066\n",
            "Epoch 384 loss: 0.0042848302982747555\n",
            "Epoch 385 loss: 0.0042703538201749325\n",
            "Epoch 386 loss: 0.004255942068994045\n",
            "Epoch 387 loss: 0.004241607151925564\n",
            "Epoch 388 loss: 0.00422736955806613\n",
            "Epoch 389 loss: 0.004213214386254549\n",
            "Epoch 390 loss: 0.0041991425678133965\n",
            "Epoch 391 loss: 0.004185128957033157\n",
            "Epoch 392 loss: 0.0041714878752827644\n",
            "Epoch 393 loss: 0.004158135503530502\n",
            "Epoch 394 loss: 0.004144906532019377\n",
            "Epoch 395 loss: 0.004131763707846403\n",
            "Epoch 396 loss: 0.004118753131479025\n",
            "Epoch 397 loss: 0.004105868749320507\n",
            "Epoch 398 loss: 0.004093088675290346\n",
            "Epoch 399 loss: 0.004080394748598337\n",
            "Epoch 400 loss: 0.004067801870405674\n",
            "Epoch 401 loss: 0.004055305849760771\n",
            "Epoch 402 loss: 0.004042893182486296\n",
            "Epoch 403 loss: 0.004030573181807995\n",
            "Epoch 404 loss: 0.004018342588096857\n",
            "Epoch 405 loss: 0.0040061743929982185\n",
            "Epoch 406 loss: 0.003994112368673086\n",
            "Epoch 407 loss: 0.003982119262218475\n",
            "Epoch 408 loss: 0.003970221150666475\n",
            "Epoch 409 loss: 0.003958357032388449\n",
            "Epoch 410 loss: 0.0039465888403356075\n",
            "Epoch 411 loss: 0.003934857901185751\n",
            "Epoch 412 loss: 0.003923190291970968\n",
            "Epoch 413 loss: 0.003911589737981558\n",
            "Epoch 414 loss: 0.0039000525139272213\n",
            "Epoch 415 loss: 0.0038885753601789474\n",
            "Epoch 416 loss: 0.0038771384861320257\n",
            "Epoch 417 loss: 0.0038657623808830976\n",
            "Epoch 418 loss: 0.0038544500712305307\n",
            "Epoch 419 loss: 0.0038432925939559937\n",
            "Epoch 420 loss: 0.0038326869253069162\n",
            "Epoch 421 loss: 0.003822135739028454\n",
            "Epoch 422 loss: 0.0038116169162094593\n",
            "Epoch 423 loss: 0.003801156533882022\n",
            "Epoch 424 loss: 0.0037907566875219345\n",
            "Epoch 425 loss: 0.0037804299499839544\n",
            "Epoch 426 loss: 0.003770139766857028\n",
            "Epoch 427 loss: 0.003759916638955474\n",
            "Epoch 428 loss: 0.003749765455722809\n",
            "Epoch 429 loss: 0.003739677369594574\n",
            "Epoch 430 loss: 0.0037296563386917114\n",
            "Epoch 431 loss: 0.003719705855473876\n",
            "Epoch 432 loss: 0.0037098100874572992\n",
            "Epoch 433 loss: 0.00369995622895658\n",
            "Epoch 434 loss: 0.0036901908461004496\n",
            "Epoch 435 loss: 0.0036804890260100365\n",
            "Epoch 436 loss: 0.0036708442494273186\n",
            "Epoch 437 loss: 0.0036612588446587324\n",
            "Epoch 438 loss: 0.0036517197731882334\n",
            "Epoch 439 loss: 0.0036422633565962315\n",
            "Epoch 440 loss: 0.0036328511778265238\n",
            "Epoch 441 loss: 0.003623501630499959\n",
            "Epoch 442 loss: 0.00361419003456831\n",
            "Epoch 443 loss: 0.0036049389746040106\n",
            "Epoch 444 loss: 0.0035957531072199345\n",
            "Epoch 445 loss: 0.003586612641811371\n",
            "Epoch 446 loss: 0.0035775185097008944\n",
            "Epoch 447 loss: 0.0035684676840901375\n",
            "Epoch 448 loss: 0.003559474367648363\n",
            "Epoch 449 loss: 0.0035505422856658697\n",
            "Epoch 450 loss: 0.003541636746376753\n",
            "Epoch 451 loss: 0.003532798495143652\n",
            "Epoch 452 loss: 0.003524195635691285\n",
            "Epoch 453 loss: 0.003515717340633273\n",
            "Epoch 454 loss: 0.0035072248429059982\n",
            "Epoch 455 loss: 0.003498752135783434\n",
            "Epoch 456 loss: 0.0034903213381767273\n",
            "Epoch 457 loss: 0.003481911960989237\n",
            "Epoch 458 loss: 0.0034735354129225016\n",
            "Epoch 459 loss: 0.003465218935161829\n",
            "Epoch 460 loss: 0.003456961130723357\n",
            "Epoch 461 loss: 0.003448782954365015\n",
            "Epoch 462 loss: 0.0034407740458846092\n",
            "Epoch 463 loss: 0.0034327423200011253\n",
            "Epoch 464 loss: 0.003424748545512557\n",
            "Epoch 465 loss: 0.003416852094233036\n",
            "Epoch 466 loss: 0.003409041091799736\n",
            "Epoch 467 loss: 0.003401255002245307\n",
            "Epoch 468 loss: 0.003393505234271288\n",
            "Epoch 469 loss: 0.0033857999369502068\n",
            "Epoch 470 loss: 0.0033781591337174177\n",
            "Epoch 471 loss: 0.0033705735113471746\n",
            "Epoch 472 loss: 0.0033630544785410166\n",
            "Epoch 473 loss: 0.003355596913024783\n",
            "Epoch 474 loss: 0.003348200349137187\n",
            "Epoch 475 loss: 0.003340825205668807\n",
            "Epoch 476 loss: 0.003333519911393523\n",
            "Epoch 477 loss: 0.003326270030811429\n",
            "Epoch 478 loss: 0.003319079289212823\n",
            "Epoch 479 loss: 0.0033119404688477516\n",
            "Epoch 480 loss: 0.003304853802546859\n",
            "Epoch 481 loss: 0.003297803457826376\n",
            "Epoch 482 loss: 0.003290815744549036\n",
            "Epoch 483 loss: 0.0032838834449648857\n",
            "Epoch 484 loss: 0.0032768838573247194\n",
            "Epoch 485 loss: 0.003269552020356059\n",
            "Epoch 486 loss: 0.0032621899154037237\n",
            "Epoch 487 loss: 0.0032547765877097845\n",
            "Epoch 488 loss: 0.003247320419177413\n",
            "Epoch 489 loss: 0.003239850513637066\n",
            "Epoch 490 loss: 0.0032323456835001707\n",
            "Epoch 491 loss: 0.0032248434145003557\n",
            "Epoch 492 loss: 0.0032173306681215763\n",
            "Epoch 493 loss: 0.003209813265129924\n",
            "Epoch 494 loss: 0.0032023009844124317\n",
            "Epoch 495 loss: 0.0031947921961545944\n",
            "Epoch 496 loss: 0.0031872978433966637\n",
            "Epoch 497 loss: 0.00317978672683239\n",
            "Epoch 498 loss: 0.003172303084284067\n",
            "Epoch 499 loss: 0.0031648355070501566\n"
          ]
        }
      ],
      "source": [
        "neuron_1 = Linear(1, 100)\n",
        "neuron_2 = Linear(100, 1)\n",
        "loss = MSELoss()\n",
        "activation = ReLU()\n",
        "optimizer = optim.Adam([{'params': neuron_1.parameters()}, {'params': neuron_2.parameters()}], lr=0.01)\n",
        "\n",
        "losses = []\n",
        "for epoch in range(500):\n",
        "    # forward pass\n",
        "    y_pred = neuron_2.forward(activation.forward(neuron_1.forward(X)))\n",
        "    # y_pred = neuron_2.forward(neuron_1.forward(X))\n",
        "    curr_loss = loss.forward(y_pred, y)\n",
        "    losses.append(curr_loss)\n",
        "\n",
        "    # backward pass\n",
        "    optimizer.zero_grad()\n",
        "    loss.forward(y_pred, y).backward()\n",
        "    optimizer.step()\n",
        "    print(f\"Epoch {epoch} loss: {curr_loss}\")"
      ]
    },
    {
      "cell_type": "code",
      "execution_count": null,
      "metadata": {
        "colab": {
          "base_uri": "https://localhost:8080/",
          "height": 267
        },
        "id": "FgDSoX7WkHZe",
        "outputId": "4c49a35f-22c2-4d8c-bc51-c1f2496ee5f6"
      },
      "outputs": [
        {
          "data": {
            "image/png": "[encoded data removed]",
            "text/plain": [
              "<Figure size 432x288 with 1 Axes>"
            ]
          },
          "metadata": {},
          "output_type": "display_data"
        }
      ],
      "source": [
        "import matplotlib.pyplot as plt\n",
        "\n",
        "with torch.no_grad():\n",
        "  plt.plot(losses)"
      ]
    },
    {
      "cell_type": "code",
      "execution_count": null,
      "metadata": {
        "colab": {
          "base_uri": "https://localhost:8080/",
          "height": 265
        },
        "id": "fPsUewwlgHsZ",
        "outputId": "a32f1754-3c0a-49bb-9113-24505d87b229"
      },
      "outputs": [
        {
          "data": {
            "image/png": "[encoded data removed]",
            "text/plain": [
              "<Figure size 432x288 with 1 Axes>"
            ]
          },
          "metadata": {},
          "output_type": "display_data"
        }
      ],
      "source": [
        "import matplotlib.pyplot as plt\n",
        "\n",
        "with torch.no_grad():\n",
        "  plt.plot(X, y)\n",
        "  plt.plot(X, neuron_2.forward(activation.forward(neuron_1.forward(X))))"
      ]
    },
    {
      "cell_type": "markdown",
      "metadata": {
        "id": "n-qUqdALiN-G"
      },
      "source": [
        "## 3.3 Построение сетей при помощи `torch.nn`"
      ]
    },
    {
      "cell_type": "code",
      "execution_count": null,
      "metadata": {
        "id": "Vxsck-1M6TAV"
      },
      "outputs": [],
      "source": [
        "import torch.nn as nn"
      ]
    },
    {
      "cell_type": "markdown",
      "metadata": {
        "id": "M0ICJtarif3_"
      },
      "source": [
        "3.3.1 Решить задачу регрессии, соблюдая следующие условия:\n",
        "\n",
        "1. Оформить нейронную сеть в виде класса - наследника `nn.Module`\n",
        "2. При создании сети использовать готовые блоки из `torch.nn`: слои, функции активации, функции потерь и т.д.\n",
        "3. Для оптимизации использовать любой алгоритм оптимизации из `torch.optim` "
      ]
    },
    {
      "cell_type": "code",
      "execution_count": null,
      "metadata": {
        "id": "L1bvXHhO7aWs"
      },
      "outputs": [],
      "source": [
        "X = torch.linspace(0, 1, 100).view(-1, 1)\n",
        "y = torch.sin(2 * np.pi * X) + 0.1 * torch.rand(X.size()) "
      ]
    },
    {
      "cell_type": "code",
      "execution_count": null,
      "metadata": {
        "colab": {
          "base_uri": "https://localhost:8080/"
        },
        "id": "eEByJj2TOkfv",
        "outputId": "30070bfd-d324-4315-cfce-8c53f7e448ba"
      },
      "outputs": [
        {
          "name": "stdout",
          "output_type": "stream",
          "text": [
            "Epoch 0 loss: 0.5386536121368408\n",
            "Epoch 100 loss: 0.31417039036750793\n",
            "Epoch 200 loss: 0.18773768842220306\n",
            "Epoch 300 loss: 0.1847917139530182\n",
            "Epoch 400 loss: 0.18054021894931793\n",
            "Epoch 500 loss: 0.17463484406471252\n",
            "Epoch 600 loss: 0.166963592171669\n",
            "Epoch 700 loss: 0.15761804580688477\n",
            "Epoch 800 loss: 0.1465131938457489\n",
            "Epoch 900 loss: 0.13235145807266235\n",
            "Epoch 1000 loss: 0.11186767369508743\n",
            "Epoch 1100 loss: 0.08399713784456253\n",
            "Epoch 1200 loss: 0.055266790091991425\n",
            "Epoch 1300 loss: 0.033549126237630844\n",
            "Epoch 1400 loss: 0.02091931365430355\n",
            "Epoch 1500 loss: 0.014945938251912594\n",
            "Epoch 1600 loss: 0.01244619581848383\n",
            "Epoch 1700 loss: 0.01135332603007555\n",
            "Epoch 1800 loss: 0.010719925165176392\n",
            "Epoch 1900 loss: 0.010149325244128704\n"
          ]
        }
      ],
      "source": [
        "class SineNet(torch.nn.Module):\n",
        "    def __init__(self, n_hidden_neurons):\n",
        "        super(SineNet, self).__init__()\n",
        "        self.fc1 = torch.nn.Linear(1, n_hidden_neurons)\n",
        "        self.act1 = torch.nn.Sigmoid()\n",
        "        self.fc2 = torch.nn.Linear(n_hidden_neurons, 1)\n",
        "\n",
        "    def forward(self, x):\n",
        "        x = self.fc1(x)\n",
        "        x = self.act1(x)\n",
        "        x = self.fc2(x)\n",
        "        return x\n",
        "\n",
        "neuron = SineNet(3)\n",
        "optimizer = optim.Adam(neuron.parameters(), lr=0.01)\n",
        "loss = torch.nn.MSELoss()\n",
        "\n",
        "for epoch in range(2000):\n",
        "    optimizer.zero_grad()\n",
        "\n",
        "    y_pred = neuron.forward(X)\n",
        "    loss_val = loss(y_pred, y)\n",
        "\n",
        "    loss_val.backward()\n",
        "\n",
        "    optimizer.step()\n",
        "    \n",
        "    if epoch % 100 == 0: print(f\"Epoch {epoch} loss: {loss_val}\")"
      ]
    },
    {
      "cell_type": "code",
      "execution_count": null,
      "metadata": {
        "colab": {
          "base_uri": "https://localhost:8080/",
          "height": 265
        },
        "id": "juoPyUI8hG_v",
        "outputId": "5ed0b4b0-440c-45f3-a5aa-7be34fa33fc7"
      },
      "outputs": [
        {
          "data": {
            "image/png": "[encoded data removed]",
            "text/plain": [
              "<Figure size 432x288 with 1 Axes>"
            ]
          },
          "metadata": {},
          "output_type": "display_data"
        }
      ],
      "source": [
        "with torch.no_grad():\n",
        "  plt.plot(X, y)\n",
        "  plt.plot(X, neuron(X))"
      ]
    },
    {
      "cell_type": "markdown",
      "metadata": {
        "id": "UPUW6fm5jbQd"
      },
      "source": [
        "3.3.2 Решить задачу регрессии, соблюдая следующие условия:\n",
        "\n",
        "1. Оформить нейронную сеть в виде объекта `nn.Sequential`\n",
        "2. При создании сети использовать готовые блоки из `torch.nn`: слои, функции активации, функции потерь и т.д.\n",
        "3. Для оптимизации использовать любой алгоритм оптимизации из `torch.optim` "
      ]
    },
    {
      "cell_type": "code",
      "execution_count": null,
      "metadata": {
        "colab": {
          "base_uri": "https://localhost:8080/"
        },
        "id": "BBwbAEd57a2r",
        "outputId": "4c822056-6aa5-4307-ae01-65d98e2d5683"
      },
      "outputs": [
        {
          "name": "stdout",
          "output_type": "stream",
          "text": [
            "Epoch 0 loss: 0.4876212775707245\n",
            "Epoch 100 loss: 0.19528909027576447\n",
            "Epoch 200 loss: 0.18962225317955017\n",
            "Epoch 300 loss: 0.1878425031900406\n",
            "Epoch 400 loss: 0.18477432429790497\n",
            "Epoch 500 loss: 0.17927859723567963\n",
            "Epoch 600 loss: 0.16958017647266388\n",
            "Epoch 700 loss: 0.1550215631723404\n",
            "Epoch 800 loss: 0.12056023627519608\n",
            "Epoch 900 loss: 0.06769632548093796\n",
            "Epoch 1000 loss: 0.028309235349297523\n",
            "Epoch 1100 loss: 0.01058168150484562\n",
            "Epoch 1200 loss: 0.005030478350818157\n",
            "Epoch 1300 loss: 0.0035396453458815813\n",
            "Epoch 1400 loss: 0.0028025314677506685\n",
            "Epoch 1500 loss: 0.002277930034324527\n",
            "Epoch 1600 loss: 0.0018953063990920782\n",
            "Epoch 1700 loss: 0.0016175475902855396\n",
            "Epoch 1800 loss: 0.0014145689783617854\n",
            "Epoch 1900 loss: 0.0012705614790320396\n"
          ]
        }
      ],
      "source": [
        "X = torch.linspace(0, 1, 100).view(-1, 1)\n",
        "y = torch.sin(2 * np.pi * X) + 0.1 * torch.rand(X.size()) \n",
        "\n",
        "layers = [\n",
        "    torch.nn.Linear(1, 5),\n",
        "    torch.nn.Sigmoid(),\n",
        "    torch.nn.Linear(5, 1)\n",
        "]\n",
        "model = torch.nn.Sequential(*layers)\n",
        "\n",
        "optimizer = optim.Adam(model.parameters(), lr=0.01)\n",
        "loss = torch.nn.MSELoss()\n",
        "\n",
        "for epoch in range(2000):\n",
        "    optimizer.zero_grad()\n",
        "\n",
        "    y_pred = model.forward(X)\n",
        "    loss_val = loss(y_pred, y)\n",
        "\n",
        "    loss_val.backward()\n",
        "\n",
        "    optimizer.step()\n",
        "    \n",
        "    if epoch % 100 == 0: print(f\"Epoch {epoch} loss: {loss_val}\")"
      ]
    },
    {
      "cell_type": "code",
      "execution_count": null,
      "metadata": {
        "colab": {
          "base_uri": "https://localhost:8080/",
          "height": 265
        },
        "id": "9D4LRdHjhdiF",
        "outputId": "c0c96802-80d0-4838-c2ba-b49e3c66fa54"
      },
      "outputs": [
        {
          "data": {
            "image/png": "[encoded data removed]",
            "text/plain": [
              "<Figure size 432x288 with 1 Axes>"
            ]
          },
          "metadata": {},
          "output_type": "display_data"
        }
      ],
      "source": [
        "with torch.no_grad():\n",
        "  plt.plot(X, y)\n",
        "  plt.plot(X, model(X))"
      ]
    },
    {
      "cell_type": "markdown",
      "metadata": {
        "id": "jQj0oVeLj2A1"
      },
      "source": [
        "## 3.4. Datasets and dataloaders"
      ]
    },
    {
      "cell_type": "code",
      "execution_count": null,
      "metadata": {
        "id": "c82tAkXMjajm"
      },
      "outputs": [],
      "source": [
        "from torch.utils.data import Dataset, DataLoader"
      ]
    },
    {
      "cell_type": "markdown",
      "metadata": {
        "id": "hoFPckkp8yhz"
      },
      "source": [
        "3.4.1 Создать датасет, поставляющий данные из задачи 3.1.2. \n",
        "\n",
        "Создать `DataLoader` на основе этого датасета и проверить работоспособность.\n",
        "\n",
        "Воспользовавшись результатами 3.3.1 (или 3.3.2) обучите модель, пользуясь мини-пакетным градиентным спуском с размером пакета (`batch_size`) = 10"
      ]
    },
    {
      "cell_type": "code",
      "execution_count": null,
      "metadata": {
        "id": "tlcwQzCFRvFc"
      },
      "outputs": [],
      "source": [
        "class SinDataset(Dataset):\n",
        "  def __init__(self):\n",
        "    self.X = torch.linspace(0, 1, 100).view(-1, 1)\n",
        "    self.y = torch.sin(2 * np.pi * self.X) + 0.1 * torch.rand(self.X.size()) \n",
        "\n",
        "  def __len__(self):\n",
        "    return len(self.X)\n",
        "\n",
        "  def __getitem__(self, idx):\n",
        "    return self.X[idx], self.y[idx]"
      ]
    },
    {
      "cell_type": "code",
      "execution_count": null,
      "metadata": {
        "colab": {
          "base_uri": "https://localhost:8080/"
        },
        "id": "zrwwWTsSjK6b",
        "outputId": "77b4ad82-7c92-41d2-cb0d-92236147c44b"
      },
      "outputs": [
        {
          "name": "stdout",
          "output_type": "stream",
          "text": [
            "Epoch 0 loss: 0.1360023468732834\n",
            "Epoch 100 loss: 0.023825522512197495\n",
            "Epoch 200 loss: 0.021264640614390373\n",
            "Epoch 300 loss: 0.01690227910876274\n",
            "Epoch 400 loss: 0.01045158039778471\n",
            "Epoch 500 loss: 0.004398830235004425\n",
            "Epoch 600 loss: 0.001501718652434647\n",
            "Epoch 700 loss: 0.000864460482262075\n",
            "Epoch 800 loss: 0.000791870232205838\n",
            "Epoch 900 loss: 0.0007812554249539971\n",
            "Epoch 1000 loss: 0.000773935578763485\n",
            "Epoch 1100 loss: 0.0007664604345336556\n",
            "Epoch 1200 loss: 0.0007588525186292827\n",
            "Epoch 1300 loss: 0.000751226325519383\n",
            "Epoch 1400 loss: 0.0007436712039634585\n",
            "Epoch 1500 loss: 0.0007362522301264107\n",
            "Epoch 1600 loss: 0.0007290017092600465\n",
            "Epoch 1700 loss: 0.0007219315739348531\n",
            "Epoch 1800 loss: 0.0007150302990339696\n",
            "Epoch 1900 loss: 0.0007082775118760765\n"
          ]
        }
      ],
      "source": [
        "class SineNet(torch.nn.Module):\n",
        "    def __init__(self, n_hidden_neurons):\n",
        "        super(SineNet, self).__init__()\n",
        "        self.fc1 = torch.nn.Linear(1, n_hidden_neurons)\n",
        "        self.act1 = torch.nn.Sigmoid()\n",
        "        self.fc2 = torch.nn.Linear(n_hidden_neurons, 1)\n",
        "\n",
        "    def forward(self, x):\n",
        "        x = self.fc1(x)\n",
        "        x = self.act1(x)\n",
        "        x = self.fc2(x)\n",
        "        return x\n",
        "\n",
        "neuron = SineNet(3)\n",
        "optimizer = optim.Adam(neuron.parameters(), lr=0.01)\n",
        "loss = torch.nn.MSELoss()\n",
        "dataloader = DataLoader(SinDataset(), batch_size=10)\n",
        "\n",
        "for epoch in range(2000):\n",
        "    X_new, y_new = next(iter(dataloader))\n",
        "    optimizer.zero_grad()\n",
        "\n",
        "    y_pred = neuron.forward(X_new)\n",
        "    loss_val = loss(y_pred, y_new)\n",
        "\n",
        "    loss_val.backward()\n",
        "\n",
        "    optimizer.step()\n",
        "    \n",
        "    if epoch % 100 == 0: print(f\"Epoch {epoch} loss: {loss_val}\")"
      ]
    },
    {
      "cell_type": "markdown",
      "metadata": {
        "id": "bxz02a3k_VQL"
      },
      "source": [
        "3.4.2 Предсказание цен алмазов\n",
        "\n",
        "3.4.2.1 Создайте датасет на основе файла diamonds.csv. \n",
        "\n",
        "1. Удалите все нечисловые столбцы\n",
        "2. Целевой столбец (`y`) - `price`\n",
        "3. Преобразуйте данные в тензоры корректных размеров\n",
        "\n",
        "3.4.2.2 Разбейте датасет на обучающий и тестовый датасет при помощи `torch.utils.data.random_split`.\n",
        "\n",
        "3.4.2.3 Обучите модель для предсказания цен при помощи мини-пакетного градиентного спуска (`batch_size = 256`). \n",
        "\n",
        "3.4.2.4 Выведите график функции потерь в зависимости от номера эпохи (значение потерь для эпохи рассчитывайте как среднее значение ошибок на каждом батче). Проверьте качество модели на тестовой выборке. \n"
      ]
    },
    {
      "cell_type": "code",
      "execution_count": 9,
      "metadata": {
        "id": "fEfTNJQI8emD"
      },
      "outputs": [],
      "source": [
        "import pandas as pd\n",
        "import torch\n",
        "from torch.utils.data import Dataset, DataLoader\n",
        "\n",
        "\n",
        "class DiamondsDataset(Dataset):\n",
        "  def __init__(self, data):\n",
        "    super().__init__()\n",
        "    self.data = pd.read_csv(data, index_col = [0])\n",
        "\n",
        "  def __len__(self):\n",
        "    return len(self.data)\n",
        "\n",
        "  def __getitem__(self, idx):\n",
        "    self.X = torch.FloatTensor(self.data.select_dtypes(['number']).values)\n",
        "    self.y = torch.FloatTensor(self.data['price'].values)\n",
        "    return self.X[idx], self.y[idx]"
      ]
    },
    {
      "cell_type": "code",
      "execution_count": 20,
      "metadata": {
        "id": "al0bfhffl2j8"
      },
      "outputs": [],
      "source": [
        "dataset = DiamondsDataset('diamonds.csv')\n",
        "\n",
        "train, test = torch.utils.data.random_split(dataset, [int(len(dataset)*0.8), int(len(dataset)*0.2)])\n",
        "\n",
        "diamonds_dataloader_train = DataLoader(train, batch_size=256)\n",
        "diamonds_dataloader_test = DataLoader(test, batch_size=256)"
      ]
    },
    {
      "cell_type": "code",
      "execution_count": 21,
      "metadata": {
        "colab": {
          "base_uri": "https://localhost:8080/"
        },
        "id": "nDq4c2ApnClp",
        "outputId": "76fc0032-a9f9-454e-c2e7-3d99ddf330bd"
      },
      "outputs": [
        {
          "output_type": "stream",
          "name": "stdout",
          "text": [
            "Epoch 0 loss: 24152918.0\n",
            "Epoch 1 loss: 13928083.0\n",
            "Epoch 2 loss: 12949975.0\n",
            "Epoch 3 loss: 12751903.0\n",
            "Epoch 4 loss: 12711796.0\n",
            "Epoch 5 loss: 12703672.0\n",
            "Epoch 6 loss: 12702028.0\n",
            "Epoch 7 loss: 12701696.0\n",
            "Epoch 8 loss: 12701627.0\n",
            "Epoch 9 loss: 12701614.0\n",
            "Epoch 10 loss: 12701611.0\n",
            "Epoch 11 loss: 12701612.0\n",
            "Epoch 12 loss: 12701611.0\n",
            "Epoch 13 loss: 12701610.0\n",
            "Epoch 14 loss: 12701610.0\n",
            "Epoch 15 loss: 12701611.0\n",
            "Epoch 16 loss: 12701611.0\n",
            "Epoch 17 loss: 12701610.0\n",
            "Epoch 18 loss: 12701611.0\n",
            "Epoch 19 loss: 12701611.0\n"
          ]
        }
      ],
      "source": [
        "class DiamondsNet(torch.nn.Module):\n",
        "    def __init__(self, n_hidden_neurons, n_features):\n",
        "        super(DiamondsNet, self).__init__()\n",
        "        self.fc1 = torch.nn.Linear(n_hidden_neurons, n_features)\n",
        "        self.act1 = torch.nn.Sigmoid()\n",
        "        self.fc2 = torch.nn.Linear(n_features, 1)\n",
        "\n",
        "    def forward(self, x):\n",
        "        x = self.fc1(x)\n",
        "        x = self.act1(x)\n",
        "        x = self.fc2(x)\n",
        "        return x\n",
        "\n",
        "neuron = DiamondsNet(7, 49)\n",
        "optimizer = torch.optim.SGD(neuron.parameters(), lr=0.025)\n",
        "loss = torch.nn.MSELoss()\n",
        "\n",
        "loss_vals = []\n",
        "for epoch in range(20):\n",
        "    X_new, y_new = next(iter(diamonds_dataloader_train))\n",
        "    optimizer.zero_grad()\n",
        "\n",
        "    y_pred = neuron.forward(X_new)\n",
        "    loss_val = loss(y_pred, y_new)\n",
        "    loss_vals.append(loss_val)\n",
        "\n",
        "    loss_val.backward()\n",
        "\n",
        "    optimizer.step()\n",
        "    \n",
        "    print(f\"Epoch {epoch} loss: {loss_val}\")"
      ]
    },
    {
      "cell_type": "code",
      "execution_count": 23,
      "metadata": {
        "colab": {
          "base_uri": "https://localhost:8080/",
          "height": 276
        },
        "id": "rKgh0WHOu437",
        "outputId": "b74b4eaf-87c4-4ddb-c287-26a13c7d5522"
      },
      "outputs": [
        {
          "output_type": "display_data",
          "data": {
            "text/plain": [
              "<Figure size 432x288 with 1 Axes>"
            ],
            "image/png": "[encoded data removed]"
          },
          "metadata": {
            "needs_background": "light"
          }
        }
      ],
      "source": [
        "import matplotlib.pyplot as plt\n",
        "\n",
        "with torch.no_grad():\n",
        "  plt.plot(loss_vals)"
      ]
    },
    {
      "cell_type": "markdown",
      "metadata": {
        "id": "qE81cgQdGM7I"
      },
      "source": [
        "3.4.3 Модифицируйте метод `__init__` датасета из 3.4.2 таким образом, чтобы он мог принимать параметр `transform: callable`. Реализуйте класс `DropColsTransform` для удаления нечисловых данных из массива. Реализуйте класс `ToTensorTransorm` для трансформации массива в тензор."
      ]
    },
    {
      "cell_type": "code",
      "execution_count": 113,
      "metadata": {
        "id": "J02LNj_F8qxK"
      },
      "outputs": [],
      "source": [
        "class DiamondsDataset(Dataset):\n",
        "  def __init__(self, data, transform=None):\n",
        "    self.data = pd.read_csv(data, index_col = [0])\n",
        "    self.transform = transform\n",
        "\n",
        "  def __len__(self):\n",
        "    return len(self.data)\n",
        "\n",
        "  def __getitem__(self, idx):\n",
        "    X = self.data.drop('price', axis=1)\n",
        "    y = self.data['price']\n",
        "    sample = X.iloc[idx], y.iloc[idx]\n",
        "    if self.transform:\n",
        "      sample = self.transform(sample)\n",
        "    return sample"
      ]
    },
    {
      "cell_type": "code",
      "execution_count": 127,
      "metadata": {
        "id": "tJii-22pHIlU"
      },
      "outputs": [],
      "source": [
        "class DropColsTransform:\n",
        "  def __init__(self, drop):\n",
        "    self.drop = drop\n",
        "  \n",
        "  def __call__(self, sample):\n",
        "    X, y = sample\n",
        "    X = X.drop(X.index[self.drop], axis=0)\n",
        "    return X, y"
      ]
    },
    {
      "cell_type": "code",
      "execution_count": 128,
      "metadata": {
        "id": "dZZ-OKrVHnY5"
      },
      "outputs": [],
      "source": [
        "class ToTensorTransform:\n",
        "  def __call__(self, sample):\n",
        "    X, y = sample\n",
        "    X = torch.FloatTensor(X.astype('float64').values)\n",
        "    y = torch.FloatTensor([y])\n",
        "    return X, y"
      ]
    },
    {
      "cell_type": "code",
      "execution_count": 129,
      "metadata": {
        "id": "GssBjT9JHt5g"
      },
      "outputs": [],
      "source": [
        "from torchvision import transforms\n",
        "\n",
        "drop = DropColsTransform(drop=[1, 2, 3])\n",
        "to_tensor = ToTensorTransform()\n",
        "dataset = DiamondsDataset('diamonds.csv', transform=transforms.Compose([drop, to_tensor]))\n"
      ]
    },
    {
      "cell_type": "code",
      "source": [
        "train, test = torch.utils.data.random_split(dataset, [int(len(dataset)*0.8), int(len(dataset)*0.2)])\n",
        "\n",
        "diamonds_dataloader_train = DataLoader(train, batch_size=256)\n",
        "diamonds_dataloader_test = DataLoader(test, batch_size=256)"
      ],
      "metadata": {
        "id": "qCcwrng5ogB0"
      },
      "execution_count": 143,
      "outputs": []
    },
    {
      "cell_type": "code",
      "source": [
        "class DiamondsNet(torch.nn.Module):\n",
        "    def __init__(self, n_hidden_neurons, n_features):\n",
        "        super(DiamondsNet, self).__init__()\n",
        "        self.net = torch.nn.Sequential(\n",
        "            torch.nn.Linear(n_features, n_hidden_neurons), \n",
        "            torch.nn.Sigmoid(), \n",
        "            torch.nn.Linear(n_hidden_neurons,n_hidden_neurons),\n",
        "            torch.nn.Sigmoid(),\n",
        "            torch.nn.Linear(n_hidden_neurons,n_hidden_neurons*2),\n",
        "            torch.nn.Sigmoid(),\n",
        "            torch.nn.Linear(n_hidden_neurons*2,1)\n",
        "        )\n",
        "\n",
        "    def forward(self, x):\n",
        "        x = self.net(x)\n",
        "        return x\n",
        "\n",
        "neuron = DiamondsNet(16, 6)\n",
        "optimizer = torch.optim.SGD(neuron.parameters(), lr=0.01)\n",
        "loss = torch.nn.MSELoss()\n",
        "\n",
        "loss_vals = []\n",
        "for epoch in range(20):\n",
        "    X_new, y_new = next(iter(diamonds_dataloader_train))\n",
        "    optimizer.zero_grad()\n",
        "\n",
        "    y_pred = neuron.forward(X_new)\n",
        "    loss_val = loss(y_pred, y_new)\n",
        "    loss_vals.append(loss_val)\n",
        "\n",
        "    loss_val.backward()\n",
        "\n",
        "    optimizer.step()\n",
        "    \n",
        "    print(f\"Epoch {epoch} loss: {loss_val}\")"
      ],
      "metadata": {
        "colab": {
          "base_uri": "https://localhost:8080/"
        },
        "id": "bG30lIUcrHTU",
        "outputId": "ae1f39f2-9ea4-4cb5-d845-cedf183815c6"
      },
      "execution_count": 144,
      "outputs": [
        {
          "output_type": "stream",
          "name": "stdout",
          "text": [
            "Epoch 0 loss: 31515842.0\n",
            "Epoch 1 loss: 27090798.0\n",
            "Epoch 2 loss: 19535812.0\n",
            "Epoch 3 loss: 16133378.0\n",
            "Epoch 4 loss: 15017710.0\n",
            "Epoch 5 loss: 14800786.0\n",
            "Epoch 6 loss: 14750708.0\n",
            "Epoch 7 loss: 14736909.0\n",
            "Epoch 8 loss: 14736092.0\n",
            "Epoch 9 loss: 14735919.0\n",
            "Epoch 10 loss: 14735880.0\n",
            "Epoch 11 loss: 14735872.0\n",
            "Epoch 12 loss: 14735872.0\n",
            "Epoch 13 loss: 14735872.0\n",
            "Epoch 14 loss: 14735872.0\n",
            "Epoch 15 loss: 14735870.0\n",
            "Epoch 16 loss: 14735872.0\n",
            "Epoch 17 loss: 14735870.0\n",
            "Epoch 18 loss: 14735872.0\n",
            "Epoch 19 loss: 14735871.0\n"
          ]
        }
      ]
    },
    {
      "cell_type": "code",
      "source": [
        "with torch.no_grad():\n",
        "  plt.plot(loss_vals)"
      ],
      "metadata": {
        "colab": {
          "base_uri": "https://localhost:8080/",
          "height": 276
        },
        "id": "842E2m3MtdpF",
        "outputId": "4de78a70-8197-4286-83e0-b85e65962ac0"
      },
      "execution_count": 145,
      "outputs": [
        {
          "output_type": "display_data",
          "data": {
            "text/plain": [
              "<Figure size 432x288 with 1 Axes>"
            ],
            "image/png": "[encoded data removed]"
          },
          "metadata": {
            "needs_background": "light"
          }
        }
      ]
    }
  ],
  "metadata": {
    "colab": {
      "collapsed_sections": [],
      "provenance": []
    },
    "kernelspec": {
      "display_name": "Python 3.8.5 ('base')",
      "language": "python",
      "name": "python3"
    },
    "language_info": {
      "codemirror_mode": {
        "name": "ipython",
        "version": 3
      },
      "file_extension": ".py",
      "mimetype": "text/x-python",
      "name": "python",
      "nbconvert_exporter": "python",
      "pygments_lexer": "ipython3",
      "version": "3.8.5"
    },
    "vscode": {
      "interpreter": {
        "hash": "ad2bdc8ecc057115af97d19610ffacc2b4e99fae6737bb82f5d7fb13d2f2c186"
      }
    }
  },
  "nbformat": 4,
  "nbformat_minor": 0
}